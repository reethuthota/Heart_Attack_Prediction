{
 "cells": [
  {
   "cell_type": "code",
   "execution_count": null,
   "metadata": {},
   "outputs": [],
   "source": [
    "import pandas as pd\n",
    "import numpy as np\n",
    "from sklearn.model_selection import train_test_split\n",
    "from sklearn.metrics import accuracy_score"
   ]
  },
  {
   "cell_type": "code",
   "execution_count": 2,
   "metadata": {},
   "outputs": [],
   "source": [
    "data = pd.read_csv(\"/Users/reethu/coding/Projects/Heart_Attack_Prediction/heart.csv\")"
   ]
  },
  {
   "cell_type": "markdown",
   "metadata": {},
   "source": [
    "### Decision Tree"
   ]
  },
  {
   "cell_type": "code",
   "execution_count": 1,
   "metadata": {},
   "outputs": [],
   "source": [
    "from sklearn.tree import DecisionTreeClassifier"
   ]
  },
  {
   "cell_type": "code",
   "execution_count": 3,
   "metadata": {},
   "outputs": [],
   "source": [
    "X = data.drop(\"target\", axis=1) # Features are all columns except target\n",
    "y = data[\"target\"] # Target is the column named target\n",
    "\n",
    "X_train, X_test, y_train, y_test = train_test_split(X, y, test_size=0.2, random_state=7)"
   ]
  },
  {
   "cell_type": "code",
   "execution_count": 4,
   "metadata": {},
   "outputs": [
    {
     "data": {
      "text/html": [
       "<style>#sk-container-id-1 {color: black;background-color: white;}#sk-container-id-1 pre{padding: 0;}#sk-container-id-1 div.sk-toggleable {background-color: white;}#sk-container-id-1 label.sk-toggleable__label {cursor: pointer;display: block;width: 100%;margin-bottom: 0;padding: 0.3em;box-sizing: border-box;text-align: center;}#sk-container-id-1 label.sk-toggleable__label-arrow:before {content: \"▸\";float: left;margin-right: 0.25em;color: #696969;}#sk-container-id-1 label.sk-toggleable__label-arrow:hover:before {color: black;}#sk-container-id-1 div.sk-estimator:hover label.sk-toggleable__label-arrow:before {color: black;}#sk-container-id-1 div.sk-toggleable__content {max-height: 0;max-width: 0;overflow: hidden;text-align: left;background-color: #f0f8ff;}#sk-container-id-1 div.sk-toggleable__content pre {margin: 0.2em;color: black;border-radius: 0.25em;background-color: #f0f8ff;}#sk-container-id-1 input.sk-toggleable__control:checked~div.sk-toggleable__content {max-height: 200px;max-width: 100%;overflow: auto;}#sk-container-id-1 input.sk-toggleable__control:checked~label.sk-toggleable__label-arrow:before {content: \"▾\";}#sk-container-id-1 div.sk-estimator input.sk-toggleable__control:checked~label.sk-toggleable__label {background-color: #d4ebff;}#sk-container-id-1 div.sk-label input.sk-toggleable__control:checked~label.sk-toggleable__label {background-color: #d4ebff;}#sk-container-id-1 input.sk-hidden--visually {border: 0;clip: rect(1px 1px 1px 1px);clip: rect(1px, 1px, 1px, 1px);height: 1px;margin: -1px;overflow: hidden;padding: 0;position: absolute;width: 1px;}#sk-container-id-1 div.sk-estimator {font-family: monospace;background-color: #f0f8ff;border: 1px dotted black;border-radius: 0.25em;box-sizing: border-box;margin-bottom: 0.5em;}#sk-container-id-1 div.sk-estimator:hover {background-color: #d4ebff;}#sk-container-id-1 div.sk-parallel-item::after {content: \"\";width: 100%;border-bottom: 1px solid gray;flex-grow: 1;}#sk-container-id-1 div.sk-label:hover label.sk-toggleable__label {background-color: #d4ebff;}#sk-container-id-1 div.sk-serial::before {content: \"\";position: absolute;border-left: 1px solid gray;box-sizing: border-box;top: 0;bottom: 0;left: 50%;z-index: 0;}#sk-container-id-1 div.sk-serial {display: flex;flex-direction: column;align-items: center;background-color: white;padding-right: 0.2em;padding-left: 0.2em;position: relative;}#sk-container-id-1 div.sk-item {position: relative;z-index: 1;}#sk-container-id-1 div.sk-parallel {display: flex;align-items: stretch;justify-content: center;background-color: white;position: relative;}#sk-container-id-1 div.sk-item::before, #sk-container-id-1 div.sk-parallel-item::before {content: \"\";position: absolute;border-left: 1px solid gray;box-sizing: border-box;top: 0;bottom: 0;left: 50%;z-index: -1;}#sk-container-id-1 div.sk-parallel-item {display: flex;flex-direction: column;z-index: 1;position: relative;background-color: white;}#sk-container-id-1 div.sk-parallel-item:first-child::after {align-self: flex-end;width: 50%;}#sk-container-id-1 div.sk-parallel-item:last-child::after {align-self: flex-start;width: 50%;}#sk-container-id-1 div.sk-parallel-item:only-child::after {width: 0;}#sk-container-id-1 div.sk-dashed-wrapped {border: 1px dashed gray;margin: 0 0.4em 0.5em 0.4em;box-sizing: border-box;padding-bottom: 0.4em;background-color: white;}#sk-container-id-1 div.sk-label label {font-family: monospace;font-weight: bold;display: inline-block;line-height: 1.2em;}#sk-container-id-1 div.sk-label-container {text-align: center;}#sk-container-id-1 div.sk-container {/* jupyter's `normalize.less` sets `[hidden] { display: none; }` but bootstrap.min.css set `[hidden] { display: none !important; }` so we also need the `!important` here to be able to override the default hidden behavior on the sphinx rendered scikit-learn.org. See: https://github.com/scikit-learn/scikit-learn/issues/21755 */display: inline-block !important;position: relative;}#sk-container-id-1 div.sk-text-repr-fallback {display: none;}</style><div id=\"sk-container-id-1\" class=\"sk-top-container\"><div class=\"sk-text-repr-fallback\"><pre>DecisionTreeClassifier(criterion=&#x27;entropy&#x27;, random_state=0)</pre><b>In a Jupyter environment, please rerun this cell to show the HTML representation or trust the notebook. <br />On GitHub, the HTML representation is unable to render, please try loading this page with nbviewer.org.</b></div><div class=\"sk-container\" hidden><div class=\"sk-item\"><div class=\"sk-estimator sk-toggleable\"><input class=\"sk-toggleable__control sk-hidden--visually\" id=\"sk-estimator-id-1\" type=\"checkbox\" checked><label for=\"sk-estimator-id-1\" class=\"sk-toggleable__label sk-toggleable__label-arrow\">DecisionTreeClassifier</label><div class=\"sk-toggleable__content\"><pre>DecisionTreeClassifier(criterion=&#x27;entropy&#x27;, random_state=0)</pre></div></div></div></div></div>"
      ],
      "text/plain": [
       "DecisionTreeClassifier(criterion='entropy', random_state=0)"
      ]
     },
     "execution_count": 4,
     "metadata": {},
     "output_type": "execute_result"
    }
   ],
   "source": [
    "reg = DecisionTreeClassifier(criterion = 'entropy', random_state = 0)\n",
    "reg.fit(X_train,y_train)\n",
    "\n",
    "Y_pred = reg.predict(X_test)"
   ]
  },
  {
   "cell_type": "code",
   "execution_count": 6,
   "metadata": {},
   "outputs": [
    {
     "name": "stdout",
     "output_type": "stream",
     "text": [
      "Accuracy - test set: 100.00%\n"
     ]
    }
   ],
   "source": [
    "#accuracy on test set\n",
    "accuracy = reg.score(X_test, y_test)\n",
    "print(\"Accuracy - test set: %.2f%%\" % (accuracy*100.0))"
   ]
  },
  {
   "cell_type": "markdown",
   "metadata": {},
   "source": [
    "### Random Forest"
   ]
  },
  {
   "cell_type": "code",
   "execution_count": 10,
   "metadata": {},
   "outputs": [],
   "source": [
    "from sklearn.ensemble import RandomForestClassifier"
   ]
  },
  {
   "cell_type": "code",
   "execution_count": 22,
   "metadata": {},
   "outputs": [],
   "source": [
    "X = data.drop(\"target\", axis=1) # Features are all columns except target\n",
    "y = data[\"target\"] # Target is the column named target\n",
    "\n",
    "X_train, X_test, y_train, y_test = train_test_split(X, y, test_size=0.3, random_state=5)"
   ]
  },
  {
   "cell_type": "code",
   "execution_count": 23,
   "metadata": {},
   "outputs": [],
   "source": [
    "reg = RandomForestClassifier(criterion = 'entropy', random_state = 0)\n",
    "reg.fit(X_train,y_train)\n",
    "Y_pred = reg.predict(X_test)"
   ]
  },
  {
   "cell_type": "code",
   "execution_count": 24,
   "metadata": {},
   "outputs": [
    {
     "name": "stdout",
     "output_type": "stream",
     "text": [
      "Accuracy - test set: 100.00%\n"
     ]
    }
   ],
   "source": [
    "#accuracy on test set\n",
    "accuracy = reg.score(X_test, y_test)\n",
    "print(\"Accuracy - test set: %.2f%%\" % (accuracy*100.0))"
   ]
  },
  {
   "cell_type": "markdown",
   "metadata": {},
   "source": [
    "### Support vector machine (SVM)"
   ]
  },
  {
   "cell_type": "code",
   "execution_count": 27,
   "metadata": {},
   "outputs": [],
   "source": [
    "from sklearn.svm import SVC"
   ]
  },
  {
   "cell_type": "code",
   "execution_count": 34,
   "metadata": {},
   "outputs": [],
   "source": [
    "X = data.drop(\"target\", axis=1) # Features are all columns except target\n",
    "y = data[\"target\"] # Target is the column named target\n",
    "\n",
    "X_train, X_test, y_train, y_test = train_test_split(X, y, test_size=0.3, random_state=5)"
   ]
  },
  {
   "cell_type": "code",
   "execution_count": 40,
   "metadata": {},
   "outputs": [],
   "source": [
    "reg = SVC()\n",
    "reg.fit(X_train,y_train)\n",
    "Y_pred = reg.predict(X_test)"
   ]
  },
  {
   "cell_type": "code",
   "execution_count": 41,
   "metadata": {},
   "outputs": [
    {
     "name": "stdout",
     "output_type": "stream",
     "text": [
      "Accuracy - test set: 70.78%\n"
     ]
    }
   ],
   "source": [
    "#accuracy on test set\n",
    "accuracy = reg.score(X_test, y_test)\n",
    "print(\"Accuracy - test set: %.2f%%\" % (accuracy*100.0))"
   ]
  },
  {
   "cell_type": "markdown",
   "metadata": {},
   "source": [
    "### Logistic Regression"
   ]
  },
  {
   "cell_type": "code",
   "execution_count": 42,
   "metadata": {},
   "outputs": [],
   "source": [
    "from sklearn.linear_model import LogisticRegression"
   ]
  },
  {
   "cell_type": "code",
   "execution_count": 53,
   "metadata": {},
   "outputs": [],
   "source": [
    "X = data.drop(\"target\", axis=1) # Features are all columns except target\n",
    "y = data[\"target\"] # Target is the column named target\n",
    "\n",
    "X_train, X_test, y_train, y_test = train_test_split(X, y, test_size=0.2, random_state=7)"
   ]
  },
  {
   "cell_type": "code",
   "execution_count": 56,
   "metadata": {},
   "outputs": [],
   "source": [
    "reg = LogisticRegression(max_iter=1000, random_state=0)\n",
    "reg.fit(X_train,y_train)\n",
    "Y_pred = reg.predict(X_test)"
   ]
  },
  {
   "cell_type": "code",
   "execution_count": 57,
   "metadata": {},
   "outputs": [
    {
     "name": "stdout",
     "output_type": "stream",
     "text": [
      "Accuracy - test set: 87.80%\n"
     ]
    }
   ],
   "source": [
    "#accuracy on test set\n",
    "accuracy = reg.score(X_test, y_test)\n",
    "print(\"Accuracy - test set: %.2f%%\" % (accuracy*100.0))"
   ]
  },
  {
   "cell_type": "markdown",
   "metadata": {},
   "source": [
    "### K-Nearest Neighbour (KNN)"
   ]
  },
  {
   "cell_type": "code",
   "execution_count": 58,
   "metadata": {},
   "outputs": [],
   "source": [
    "from sklearn.neighbors import KNeighborsClassifier"
   ]
  },
  {
   "cell_type": "code",
   "execution_count": 75,
   "metadata": {},
   "outputs": [],
   "source": [
    "X = data.drop(\"target\", axis=1) # Features are all columns except target\n",
    "y = data[\"target\"] # Target is the column named target\n",
    "\n",
    "X_train, X_test, y_train, y_test = train_test_split(X, y, test_size=0.2, random_state=7)"
   ]
  },
  {
   "cell_type": "code",
   "execution_count": 76,
   "metadata": {},
   "outputs": [],
   "source": [
    "reg = KNeighborsClassifier()\n",
    "reg.fit(X_train,y_train)\n",
    "Y_pred = reg.predict(X_test)"
   ]
  },
  {
   "cell_type": "code",
   "execution_count": 77,
   "metadata": {},
   "outputs": [
    {
     "name": "stdout",
     "output_type": "stream",
     "text": [
      "Accuracy - test set: 74.63%\n"
     ]
    }
   ],
   "source": [
    "#accuracy on test set\n",
    "accuracy = reg.score(X_test, y_test)\n",
    "print(\"Accuracy - test set: %.2f%%\" % (accuracy*100.0))"
   ]
  },
  {
   "cell_type": "markdown",
   "metadata": {},
   "source": [
    "### Naive Byes"
   ]
  },
  {
   "cell_type": "code",
   "execution_count": 78,
   "metadata": {},
   "outputs": [],
   "source": [
    "from sklearn.naive_bayes import GaussianNB"
   ]
  },
  {
   "cell_type": "code",
   "execution_count": 86,
   "metadata": {},
   "outputs": [],
   "source": [
    "X = data.drop(\"target\", axis=1) # Features are all columns except target\n",
    "y = data[\"target\"] # Target is the column named target\n",
    "\n",
    "X_train, X_test, y_train, y_test = train_test_split(X, y, test_size=0.2, random_state=7)"
   ]
  },
  {
   "cell_type": "code",
   "execution_count": 87,
   "metadata": {},
   "outputs": [],
   "source": [
    "reg = GaussianNB()\n",
    "reg.fit(X_train,y_train)\n",
    "Y_pred = reg.predict(X_test)"
   ]
  },
  {
   "cell_type": "code",
   "execution_count": 88,
   "metadata": {},
   "outputs": [
    {
     "name": "stdout",
     "output_type": "stream",
     "text": [
      "Accuracy - test set: 84.88%\n"
     ]
    }
   ],
   "source": [
    "#accuracy on test set\n",
    "accuracy = reg.score(X_test, y_test)\n",
    "print(\"Accuracy - test set: %.2f%%\" % (accuracy*100.0))"
   ]
  },
  {
   "cell_type": "markdown",
   "metadata": {},
   "source": [
    "### Deep Neural Networks (DNN)"
   ]
  },
  {
   "cell_type": "code",
   "execution_count": 91,
   "metadata": {},
   "outputs": [],
   "source": [
    "import matplotlib.pyplot as plt\n",
    "from sklearn.metrics import mean_squared_error\n",
    "from math import sqrt\n",
    "from keras.models import Sequential\n",
    "from keras.layers import Dense\n",
    "from keras.utils import to_categorical "
   ]
  },
  {
   "cell_type": "code",
   "execution_count": 92,
   "metadata": {},
   "outputs": [],
   "source": [
    "df = pd.read_csv(\"heart.csv\")\n",
    "x=df.drop('target',axis=1)\n",
    "y=df['target']\n",
    "x_train,x_test,y_train,y_test = train_test_split(x,y,test_size=0.25,random_state=42)"
   ]
  },
  {
   "cell_type": "code",
   "execution_count": 93,
   "metadata": {},
   "outputs": [],
   "source": [
    "model = Sequential()\n",
    "model.add(Dense(500, activation='relu', input_dim=13))\n",
    "model.add(Dense(100, activation='relu'))\n",
    "model.add(Dense(50, activation='relu'))\n",
    "model.add(Dense(1, activation='sigmoid'))\n"
   ]
  },
  {
   "cell_type": "code",
   "execution_count": 94,
   "metadata": {},
   "outputs": [
    {
     "name": "stdout",
     "output_type": "stream",
     "text": [
      "Epoch 1/100\n",
      " 1/24 [>.............................] - ETA: 4s - loss: 2.8044 - accuracy: 0.5625"
     ]
    },
    {
     "name": "stderr",
     "output_type": "stream",
     "text": [
      "2023-10-07 14:33:35.639167: W tensorflow/tsl/platform/profile_utils/cpu_utils.cc:128] Failed to get CPU frequency: 0 Hz\n"
     ]
    },
    {
     "name": "stdout",
     "output_type": "stream",
     "text": [
      "24/24 [==============================] - 0s 927us/step - loss: 2.8002 - accuracy: 0.5768\n",
      "Epoch 2/100\n",
      "24/24 [==============================] - 0s 917us/step - loss: 0.6323 - accuracy: 0.6888\n",
      "Epoch 3/100\n",
      "24/24 [==============================] - 0s 824us/step - loss: 0.5718 - accuracy: 0.7005\n",
      "Epoch 4/100\n",
      "24/24 [==============================] - 0s 804us/step - loss: 0.5963 - accuracy: 0.6862\n",
      "Epoch 5/100\n",
      "24/24 [==============================] - 0s 1ms/step - loss: 0.5463 - accuracy: 0.7370\n",
      "Epoch 6/100\n",
      "24/24 [==============================] - 0s 1ms/step - loss: 0.5598 - accuracy: 0.7161\n",
      "Epoch 7/100\n",
      "24/24 [==============================] - 0s 1ms/step - loss: 0.4544 - accuracy: 0.7799\n",
      "Epoch 8/100\n",
      "24/24 [==============================] - 0s 1ms/step - loss: 0.5321 - accuracy: 0.7487\n",
      "Epoch 9/100\n",
      "24/24 [==============================] - 0s 1ms/step - loss: 0.4123 - accuracy: 0.8177\n",
      "Epoch 10/100\n",
      "24/24 [==============================] - 0s 2ms/step - loss: 0.5672 - accuracy: 0.7253\n",
      "Epoch 11/100\n",
      "24/24 [==============================] - 0s 1ms/step - loss: 0.4685 - accuracy: 0.7708\n",
      "Epoch 12/100\n",
      "24/24 [==============================] - 0s 1ms/step - loss: 0.4147 - accuracy: 0.8060\n",
      "Epoch 13/100\n",
      "24/24 [==============================] - 0s 1ms/step - loss: 0.4018 - accuracy: 0.8138\n",
      "Epoch 14/100\n",
      "24/24 [==============================] - 0s 1ms/step - loss: 0.3787 - accuracy: 0.8333\n",
      "Epoch 15/100\n",
      "24/24 [==============================] - 0s 1ms/step - loss: 0.4999 - accuracy: 0.7630\n",
      "Epoch 16/100\n",
      "24/24 [==============================] - 0s 1ms/step - loss: 0.4516 - accuracy: 0.7917\n",
      "Epoch 17/100\n",
      "24/24 [==============================] - 0s 999us/step - loss: 0.4042 - accuracy: 0.8294\n",
      "Epoch 18/100\n",
      "24/24 [==============================] - 0s 1ms/step - loss: 0.3767 - accuracy: 0.8307\n",
      "Epoch 19/100\n",
      "24/24 [==============================] - 0s 1ms/step - loss: 0.3959 - accuracy: 0.8242\n",
      "Epoch 20/100\n",
      "24/24 [==============================] - 0s 966us/step - loss: 0.3609 - accuracy: 0.8424\n",
      "Epoch 21/100\n",
      "24/24 [==============================] - 0s 962us/step - loss: 0.3731 - accuracy: 0.8398\n",
      "Epoch 22/100\n",
      "24/24 [==============================] - 0s 948us/step - loss: 0.4369 - accuracy: 0.7956\n",
      "Epoch 23/100\n",
      "24/24 [==============================] - 0s 953us/step - loss: 0.3618 - accuracy: 0.8281\n",
      "Epoch 24/100\n",
      "24/24 [==============================] - 0s 963us/step - loss: 0.3968 - accuracy: 0.8346\n",
      "Epoch 25/100\n",
      "24/24 [==============================] - 0s 910us/step - loss: 0.3517 - accuracy: 0.8581\n",
      "Epoch 26/100\n",
      "24/24 [==============================] - 0s 938us/step - loss: 0.3739 - accuracy: 0.8359\n",
      "Epoch 27/100\n",
      "24/24 [==============================] - 0s 920us/step - loss: 0.3560 - accuracy: 0.8555\n",
      "Epoch 28/100\n",
      "24/24 [==============================] - 0s 956us/step - loss: 0.4804 - accuracy: 0.7891\n",
      "Epoch 29/100\n",
      "24/24 [==============================] - 0s 988us/step - loss: 0.4917 - accuracy: 0.7721\n",
      "Epoch 30/100\n",
      "24/24 [==============================] - 0s 950us/step - loss: 0.5380 - accuracy: 0.7565\n",
      "Epoch 31/100\n",
      "24/24 [==============================] - 0s 1ms/step - loss: 0.4630 - accuracy: 0.7956\n",
      "Epoch 32/100\n",
      "24/24 [==============================] - 0s 1ms/step - loss: 0.3373 - accuracy: 0.8464\n",
      "Epoch 33/100\n",
      "24/24 [==============================] - 0s 1ms/step - loss: 0.3650 - accuracy: 0.8385\n",
      "Epoch 34/100\n",
      "24/24 [==============================] - 0s 2ms/step - loss: 0.4080 - accuracy: 0.8073\n",
      "Epoch 35/100\n",
      "24/24 [==============================] - 0s 1ms/step - loss: 0.4233 - accuracy: 0.8073\n",
      "Epoch 36/100\n",
      "24/24 [==============================] - 0s 1ms/step - loss: 0.3482 - accuracy: 0.8607\n",
      "Epoch 37/100\n",
      "24/24 [==============================] - 0s 1ms/step - loss: 0.4087 - accuracy: 0.8138\n",
      "Epoch 38/100\n",
      "24/24 [==============================] - 0s 1ms/step - loss: 0.3890 - accuracy: 0.8359\n",
      "Epoch 39/100\n",
      "24/24 [==============================] - 0s 1ms/step - loss: 0.4571 - accuracy: 0.7812\n",
      "Epoch 40/100\n",
      "24/24 [==============================] - 0s 1ms/step - loss: 0.4486 - accuracy: 0.7917\n",
      "Epoch 41/100\n",
      "24/24 [==============================] - 0s 931us/step - loss: 0.3503 - accuracy: 0.8411\n",
      "Epoch 42/100\n",
      "24/24 [==============================] - 0s 970us/step - loss: 0.3640 - accuracy: 0.8346\n",
      "Epoch 43/100\n",
      "24/24 [==============================] - 0s 952us/step - loss: 0.3204 - accuracy: 0.8620\n",
      "Epoch 44/100\n",
      "24/24 [==============================] - 0s 997us/step - loss: 0.3207 - accuracy: 0.8750\n",
      "Epoch 45/100\n",
      "24/24 [==============================] - 0s 945us/step - loss: 0.3212 - accuracy: 0.8633\n",
      "Epoch 46/100\n",
      "24/24 [==============================] - 0s 932us/step - loss: 0.3276 - accuracy: 0.8542\n",
      "Epoch 47/100\n",
      "24/24 [==============================] - 0s 959us/step - loss: 0.3629 - accuracy: 0.8438\n",
      "Epoch 48/100\n",
      "24/24 [==============================] - 0s 958us/step - loss: 0.3227 - accuracy: 0.8594\n",
      "Epoch 49/100\n",
      "24/24 [==============================] - 0s 938us/step - loss: 0.3638 - accuracy: 0.8438\n",
      "Epoch 50/100\n",
      "24/24 [==============================] - 0s 936us/step - loss: 0.3615 - accuracy: 0.8346\n",
      "Epoch 51/100\n",
      "24/24 [==============================] - 0s 948us/step - loss: 0.3249 - accuracy: 0.8607\n",
      "Epoch 52/100\n",
      "24/24 [==============================] - 0s 955us/step - loss: 0.3171 - accuracy: 0.8620\n",
      "Epoch 53/100\n",
      "24/24 [==============================] - 0s 948us/step - loss: 0.3165 - accuracy: 0.8646\n",
      "Epoch 54/100\n",
      "24/24 [==============================] - 0s 935us/step - loss: 0.3243 - accuracy: 0.8659\n",
      "Epoch 55/100\n",
      "24/24 [==============================] - 0s 939us/step - loss: 0.3697 - accuracy: 0.8438\n",
      "Epoch 56/100\n",
      "24/24 [==============================] - 0s 956us/step - loss: 0.3519 - accuracy: 0.8424\n",
      "Epoch 57/100\n",
      "24/24 [==============================] - 0s 947us/step - loss: 0.3875 - accuracy: 0.8346\n",
      "Epoch 58/100\n",
      "24/24 [==============================] - 0s 913us/step - loss: 0.3700 - accuracy: 0.8424\n",
      "Epoch 59/100\n",
      "24/24 [==============================] - 0s 917us/step - loss: 0.3420 - accuracy: 0.8568\n",
      "Epoch 60/100\n",
      "24/24 [==============================] - 0s 2ms/step - loss: 0.3110 - accuracy: 0.8789\n",
      "Epoch 61/100\n",
      "24/24 [==============================] - 0s 926us/step - loss: 0.4545 - accuracy: 0.7943\n",
      "Epoch 62/100\n",
      "24/24 [==============================] - 0s 942us/step - loss: 0.3665 - accuracy: 0.8438\n",
      "Epoch 63/100\n",
      "24/24 [==============================] - 0s 1ms/step - loss: 0.3256 - accuracy: 0.8672\n",
      "Epoch 64/100\n",
      "24/24 [==============================] - 0s 1ms/step - loss: 0.3292 - accuracy: 0.8529\n",
      "Epoch 65/100\n",
      "24/24 [==============================] - 0s 1ms/step - loss: 0.3715 - accuracy: 0.8255\n",
      "Epoch 66/100\n",
      "24/24 [==============================] - 0s 1ms/step - loss: 0.3872 - accuracy: 0.8268\n",
      "Epoch 67/100\n",
      "24/24 [==============================] - 0s 1ms/step - loss: 0.3570 - accuracy: 0.8294\n",
      "Epoch 68/100\n",
      "24/24 [==============================] - 0s 1000us/step - loss: 0.3217 - accuracy: 0.8698\n",
      "Epoch 69/100\n",
      "24/24 [==============================] - 0s 990us/step - loss: 0.3179 - accuracy: 0.8646\n",
      "Epoch 70/100\n",
      "24/24 [==============================] - 0s 1ms/step - loss: 0.3296 - accuracy: 0.8633\n",
      "Epoch 71/100\n",
      "24/24 [==============================] - 0s 1ms/step - loss: 0.3690 - accuracy: 0.8281\n",
      "Epoch 72/100\n",
      "24/24 [==============================] - 0s 1ms/step - loss: 0.3455 - accuracy: 0.8490\n",
      "Epoch 73/100\n",
      "24/24 [==============================] - 0s 1ms/step - loss: 0.3667 - accuracy: 0.8307\n",
      "Epoch 74/100\n",
      "24/24 [==============================] - 0s 987us/step - loss: 0.3189 - accuracy: 0.8672\n",
      "Epoch 75/100\n",
      "24/24 [==============================] - 0s 900us/step - loss: 0.3296 - accuracy: 0.8555\n",
      "Epoch 76/100\n",
      "24/24 [==============================] - 0s 949us/step - loss: 0.3778 - accuracy: 0.8242\n",
      "Epoch 77/100\n",
      "24/24 [==============================] - 0s 918us/step - loss: 0.3242 - accuracy: 0.8607\n",
      "Epoch 78/100\n",
      "24/24 [==============================] - 0s 928us/step - loss: 0.3209 - accuracy: 0.8672\n",
      "Epoch 79/100\n",
      "24/24 [==============================] - 0s 1ms/step - loss: 0.3430 - accuracy: 0.8568\n",
      "Epoch 80/100\n",
      "24/24 [==============================] - 0s 1ms/step - loss: 0.3230 - accuracy: 0.8542\n",
      "Epoch 81/100\n",
      "24/24 [==============================] - 0s 990us/step - loss: 0.3127 - accuracy: 0.8620\n",
      "Epoch 82/100\n",
      "24/24 [==============================] - 0s 1000us/step - loss: 0.3401 - accuracy: 0.8477\n",
      "Epoch 83/100\n",
      "24/24 [==============================] - 0s 1ms/step - loss: 0.3082 - accuracy: 0.8646\n",
      "Epoch 84/100\n",
      "24/24 [==============================] - 0s 1ms/step - loss: 0.2902 - accuracy: 0.8854\n",
      "Epoch 85/100\n",
      "24/24 [==============================] - 0s 2ms/step - loss: 0.3303 - accuracy: 0.8581\n",
      "Epoch 86/100\n",
      "24/24 [==============================] - 0s 938us/step - loss: 0.3109 - accuracy: 0.8633\n",
      "Epoch 87/100\n",
      "24/24 [==============================] - 0s 1ms/step - loss: 0.3229 - accuracy: 0.8607\n",
      "Epoch 88/100\n",
      "24/24 [==============================] - 0s 947us/step - loss: 0.3665 - accuracy: 0.8424\n",
      "Epoch 89/100\n",
      "24/24 [==============================] - 0s 929us/step - loss: 0.3432 - accuracy: 0.8607\n",
      "Epoch 90/100\n",
      "24/24 [==============================] - 0s 940us/step - loss: 0.4466 - accuracy: 0.7799\n",
      "Epoch 91/100\n",
      "24/24 [==============================] - 0s 946us/step - loss: 0.3314 - accuracy: 0.8477\n",
      "Epoch 92/100\n",
      "24/24 [==============================] - 0s 952us/step - loss: 0.3332 - accuracy: 0.8659\n",
      "Epoch 93/100\n",
      "24/24 [==============================] - 0s 920us/step - loss: 0.3086 - accuracy: 0.8698\n",
      "Epoch 94/100\n",
      "24/24 [==============================] - 0s 919us/step - loss: 0.3142 - accuracy: 0.8789\n",
      "Epoch 95/100\n",
      "24/24 [==============================] - 0s 905us/step - loss: 0.3654 - accuracy: 0.8438\n",
      "Epoch 96/100\n",
      "24/24 [==============================] - 0s 924us/step - loss: 0.3698 - accuracy: 0.8307\n",
      "Epoch 97/100\n",
      "24/24 [==============================] - 0s 924us/step - loss: 0.3262 - accuracy: 0.8516\n",
      "Epoch 98/100\n",
      "24/24 [==============================] - 0s 918us/step - loss: 0.2917 - accuracy: 0.8763\n",
      "Epoch 99/100\n",
      "24/24 [==============================] - 0s 905us/step - loss: 0.3250 - accuracy: 0.8568\n",
      "Epoch 100/100\n",
      "24/24 [==============================] - 0s 940us/step - loss: 0.3136 - accuracy: 0.8646\n",
      "9/9 [==============================] - 0s 482us/step\n",
      "[[9.05663550e-01]\n",
      " [9.56490397e-01]\n",
      " [2.43339371e-02]\n",
      " [8.24665904e-01]\n",
      " [4.28973325e-02]\n",
      " [6.27655566e-01]\n",
      " [2.07798705e-02]\n",
      " [1.95645317e-02]\n",
      " [5.57534039e-01]\n",
      " [6.01446163e-03]\n",
      " [8.03410709e-01]\n",
      " [4.36749635e-03]\n",
      " [3.95692080e-01]\n",
      " [9.99994218e-01]\n",
      " [3.82432379e-02]\n",
      " [8.62416744e-01]\n",
      " [1.50757730e-02]\n",
      " [9.99709785e-01]\n",
      " [7.23803222e-01]\n",
      " [1.91885456e-02]\n",
      " [2.42781490e-01]\n",
      " [7.27442056e-02]\n",
      " [1.30042285e-01]\n",
      " [1.67732558e-03]\n",
      " [2.42781490e-01]\n",
      " [9.58776534e-01]\n",
      " [7.60706007e-01]\n",
      " [2.23628208e-01]\n",
      " [1.77532388e-03]\n",
      " [5.26169002e-01]\n",
      " [3.05427074e-01]\n",
      " [2.29665533e-01]\n",
      " [3.50202531e-01]\n",
      " [9.56490397e-01]\n",
      " [7.31613696e-01]\n",
      " [7.58586526e-01]\n",
      " [2.42781490e-01]\n",
      " [1.83504686e-01]\n",
      " [6.90263510e-01]\n",
      " [8.90303493e-01]\n",
      " [1.95645317e-02]\n",
      " [3.04942001e-02]\n",
      " [5.06339967e-01]\n",
      " [1.30042285e-01]\n",
      " [8.49254802e-03]\n",
      " [3.80537799e-03]\n",
      " [3.52439284e-02]\n",
      " [2.35168770e-01]\n",
      " [3.26401144e-01]\n",
      " [2.98789591e-01]\n",
      " [8.13711062e-02]\n",
      " [6.13144040e-03]\n",
      " [4.92027789e-01]\n",
      " [4.65624174e-03]\n",
      " [7.60706007e-01]\n",
      " [6.90263510e-01]\n",
      " [7.31563792e-02]\n",
      " [8.74650478e-03]\n",
      " [6.40423954e-01]\n",
      " [9.15854931e-01]\n",
      " [3.20510298e-01]\n",
      " [6.66699409e-02]\n",
      " [1.77532388e-03]\n",
      " [2.98789591e-01]\n",
      " [6.80551073e-03]\n",
      " [1.99043881e-02]\n",
      " [9.87708807e-01]\n",
      " [1.95429862e-01]\n",
      " [3.80537799e-03]\n",
      " [9.59012926e-01]\n",
      " [3.94500911e-01]\n",
      " [1.77532388e-03]\n",
      " [1.66662946e-01]\n",
      " [7.84475744e-01]\n",
      " [4.98256683e-01]\n",
      " [3.09045494e-01]\n",
      " [2.07798705e-02]\n",
      " [5.35230219e-01]\n",
      " [2.63141096e-01]\n",
      " [6.06224477e-01]\n",
      " [1.08930096e-01]\n",
      " [2.97534149e-02]\n",
      " [1.18732802e-03]\n",
      " [9.07749776e-03]\n",
      " [7.88123667e-01]\n",
      " [3.94183910e-03]\n",
      " [8.03410709e-01]\n",
      " [6.32243082e-02]\n",
      " [1.08930096e-01]\n",
      " [5.26169002e-01]\n",
      " [3.78356576e-01]\n",
      " [1.91885456e-02]\n",
      " [9.58313465e-01]\n",
      " [7.62751162e-01]\n",
      " [7.60659635e-01]\n",
      " [5.30685306e-01]\n",
      " [1.95429862e-01]\n",
      " [2.02491600e-02]\n",
      " [2.54715560e-04]\n",
      " [2.59315502e-02]\n",
      " [9.67002749e-01]\n",
      " [4.42835055e-02]\n",
      " [3.93432438e-01]\n",
      " [4.79511112e-01]\n",
      " [4.40300405e-02]\n",
      " [8.62282693e-01]\n",
      " [8.74650478e-03]\n",
      " [4.86333042e-01]\n",
      " [1.17634162e-01]\n",
      " [8.64549041e-01]\n",
      " [6.40423954e-01]\n",
      " [8.64549041e-01]\n",
      " [9.68744516e-01]\n",
      " [4.66162190e-02]\n",
      " [6.15421891e-01]\n",
      " [9.05212224e-01]\n",
      " [4.84044969e-01]\n",
      " [6.87443793e-01]\n",
      " [6.61683440e-01]\n",
      " [5.61260444e-04]\n",
      " [2.40599841e-01]\n",
      " [3.99636447e-01]\n",
      " [4.21042088e-03]\n",
      " [1.38457924e-01]\n",
      " [6.00939915e-02]\n",
      " [1.67732558e-03]\n",
      " [5.89267373e-01]\n",
      " [4.89235580e-01]\n",
      " [3.94500911e-01]\n",
      " [4.14192259e-01]\n",
      " [2.29665533e-01]\n",
      " [2.54715560e-04]\n",
      " [9.63938653e-01]\n",
      " [9.67002749e-01]\n",
      " [8.58885888e-03]\n",
      " [9.93747950e-01]\n",
      " [6.64865714e-04]\n",
      " [3.99636447e-01]\n",
      " [9.93747950e-01]\n",
      " [4.84044969e-01]\n",
      " [2.03881145e-01]\n",
      " [7.47854590e-01]\n",
      " [7.26041913e-01]\n",
      " [6.27713874e-02]\n",
      " [2.44730309e-01]\n",
      " [8.08586001e-01]\n",
      " [8.13711062e-02]\n",
      " [8.13582420e-01]\n",
      " [3.64810497e-01]\n",
      " [3.07413843e-02]\n",
      " [3.50202531e-01]\n",
      " [3.80537799e-03]\n",
      " [2.89425403e-01]\n",
      " [2.03881145e-01]\n",
      " [1.06262304e-01]\n",
      " [6.37335330e-02]\n",
      " [7.46334136e-01]\n",
      " [4.14192259e-01]\n",
      " [2.49773320e-02]\n",
      " [3.04942001e-02]\n",
      " [5.06339967e-01]\n",
      " [9.25418556e-01]\n",
      " [4.42835055e-02]\n",
      " [4.42835055e-02]\n",
      " [6.03011698e-02]\n",
      " [7.64452666e-02]\n",
      " [5.28447069e-02]\n",
      " [9.97406896e-03]\n",
      " [6.76081926e-02]\n",
      " [8.13582420e-01]\n",
      " [1.66662946e-01]\n",
      " [3.64956290e-01]\n",
      " [9.53318596e-01]\n",
      " [2.23323568e-05]\n",
      " [7.46063709e-01]\n",
      " [9.56490397e-01]\n",
      " [9.98508096e-01]\n",
      " [4.63208358e-04]\n",
      " [3.93432438e-01]\n",
      " [8.82733285e-01]\n",
      " [9.42387402e-01]\n",
      " [5.07388264e-03]\n",
      " [3.64421010e-01]\n",
      " [4.92027789e-01]\n",
      " [4.35273975e-01]\n",
      " [6.61683440e-01]\n",
      " [7.31613696e-01]\n",
      " [6.40423954e-01]\n",
      " [4.91022140e-01]\n",
      " [8.93126667e-01]\n",
      " [8.93232465e-01]\n",
      " [2.63141096e-01]\n",
      " [4.59181994e-01]\n",
      " [4.92027789e-01]\n",
      " [8.74650478e-03]\n",
      " [9.62722152e-02]\n",
      " [7.58790374e-01]\n",
      " [3.71541642e-03]\n",
      " [8.90226185e-01]\n",
      " [9.30456340e-01]\n",
      " [2.52977043e-01]\n",
      " [5.64990819e-01]\n",
      " [9.30456340e-01]\n",
      " [2.41280142e-02]\n",
      " [1.83963045e-01]\n",
      " [5.20913303e-02]\n",
      " [3.79914492e-01]\n",
      " [9.02470708e-01]\n",
      " [3.77310693e-01]\n",
      " [3.99636447e-01]\n",
      " [5.64990819e-01]\n",
      " [5.91279864e-02]\n",
      " [9.99189019e-01]\n",
      " [3.78356576e-01]\n",
      " [6.37335330e-02]\n",
      " [9.74239632e-02]\n",
      " [3.68058503e-01]\n",
      " [5.28447069e-02]\n",
      " [3.88966173e-01]\n",
      " [8.58885888e-03]\n",
      " [4.20390397e-01]\n",
      " [1.18732802e-03]\n",
      " [2.59315502e-02]\n",
      " [9.25347686e-01]\n",
      " [3.76339734e-01]\n",
      " [6.15349233e-01]\n",
      " [6.87443793e-01]\n",
      " [3.72727633e-01]\n",
      " [4.36749635e-03]\n",
      " [2.40599841e-01]\n",
      " [4.59181994e-01]\n",
      " [2.81297445e-01]\n",
      " [5.01217842e-01]\n",
      " [7.46334136e-01]\n",
      " [3.07413843e-02]\n",
      " [2.07798705e-02]\n",
      " [1.13645986e-01]\n",
      " [7.07069933e-02]\n",
      " [8.65799963e-01]\n",
      " [1.62114263e-01]\n",
      " [2.53461868e-01]\n",
      " [1.53340280e-01]\n",
      " [9.98676240e-01]\n",
      " [8.82440805e-02]\n",
      " [5.98159432e-03]\n",
      " [4.86333042e-01]\n",
      " [2.59762611e-02]\n",
      " [9.67002749e-01]\n",
      " [6.12963736e-01]\n",
      " [6.27051964e-02]\n",
      " [7.84475744e-01]\n",
      " [6.01446163e-03]\n",
      " [2.55680382e-01]\n",
      " [4.63208358e-04]\n",
      " [1.38457924e-01]\n",
      " [9.00924802e-01]\n",
      " [1.11605674e-02]]\n"
     ]
    }
   ],
   "source": [
    "model.compile(optimizer='adam', \n",
    "              loss='binary_crossentropy', \n",
    "              metrics=['accuracy'])\n",
    "model.fit(x_train,y_train, epochs=100)\n",
    "print(model.predict(x_test))"
   ]
  },
  {
   "cell_type": "code",
   "execution_count": 95,
   "metadata": {},
   "outputs": [
    {
     "name": "stdout",
     "output_type": "stream",
     "text": [
      "9/9 [==============================] - 0s 722us/step - loss: 0.4413 - accuracy: 0.7704\n"
     ]
    },
    {
     "data": {
      "text/plain": [
       "[0.44133874773979187, 0.7704280018806458]"
      ]
     },
     "execution_count": 95,
     "metadata": {},
     "output_type": "execute_result"
    }
   ],
   "source": [
    "model.evaluate(x_test, y_test)"
   ]
  }
 ],
 "metadata": {
  "kernelspec": {
   "display_name": "base",
   "language": "python",
   "name": "python3"
  },
  "language_info": {
   "codemirror_mode": {
    "name": "ipython",
    "version": 3
   },
   "file_extension": ".py",
   "mimetype": "text/x-python",
   "name": "python",
   "nbconvert_exporter": "python",
   "pygments_lexer": "ipython3",
   "version": "3.11.3"
  },
  "orig_nbformat": 4
 },
 "nbformat": 4,
 "nbformat_minor": 2
}
