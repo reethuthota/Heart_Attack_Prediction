{
 "cells": [
  {
   "cell_type": "markdown",
   "metadata": {},
   "source": [
    "# Prediction of Heart Attack Using Machine Learning Algorithms and Deep Learning\n",
    "\n",
    "#### By Reethu RG Thota"
   ]
  },
  {
   "cell_type": "code",
   "execution_count": 1,
   "metadata": {},
   "outputs": [],
   "source": [
    "import pandas as pd\n",
    "import numpy as np\n",
    "from sklearn.model_selection import train_test_split\n",
    "from sklearn.metrics import accuracy_score"
   ]
  },
  {
   "cell_type": "code",
   "execution_count": 2,
   "metadata": {},
   "outputs": [],
   "source": [
    "data = pd.read_csv(\"/Users/reethu/coding/Projects/Heart_Attack_Prediction/heart.csv\")"
   ]
  },
  {
   "cell_type": "markdown",
   "metadata": {},
   "source": [
    "### Decision Tree Classifier"
   ]
  },
  {
   "cell_type": "code",
   "execution_count": 3,
   "metadata": {},
   "outputs": [],
   "source": [
    "from sklearn.tree import DecisionTreeClassifier"
   ]
  },
  {
   "cell_type": "code",
   "execution_count": 4,
   "metadata": {},
   "outputs": [],
   "source": [
    "X = data.drop(\"target\", axis=1) # Features are all columns except target\n",
    "y = data[\"target\"] # Target is the column named target\n",
    "\n",
    "X_train, X_test, y_train, y_test = train_test_split(X, y, test_size=0.2, random_state=7)"
   ]
  },
  {
   "cell_type": "code",
   "execution_count": 5,
   "metadata": {},
   "outputs": [],
   "source": [
    "reg = DecisionTreeClassifier(criterion = 'entropy', random_state = 0)\n",
    "reg.fit(X_train,y_train)\n",
    "\n",
    "Y_pred = reg.predict(X_test)"
   ]
  },
  {
   "cell_type": "code",
   "execution_count": 6,
   "metadata": {},
   "outputs": [
    {
     "name": "stdout",
     "output_type": "stream",
     "text": [
      "Accuracy - test set: 100.00%\n"
     ]
    }
   ],
   "source": [
    "#accuracy on test set\n",
    "accuracy = reg.score(X_test, y_test)\n",
    "print(\"Accuracy - test set: %.2f%%\" % (accuracy*100.0))"
   ]
  },
  {
   "cell_type": "markdown",
   "metadata": {},
   "source": [
    "### Random Forest Classifier"
   ]
  },
  {
   "cell_type": "code",
   "execution_count": 7,
   "metadata": {},
   "outputs": [],
   "source": [
    "from sklearn.ensemble import RandomForestClassifier"
   ]
  },
  {
   "cell_type": "code",
   "execution_count": 8,
   "metadata": {},
   "outputs": [],
   "source": [
    "X = data.drop(\"target\", axis=1) # Features are all columns except target\n",
    "y = data[\"target\"] # Target is the column named target\n",
    "\n",
    "X_train, X_test, y_train, y_test = train_test_split(X, y, test_size=0.3, random_state=5)"
   ]
  },
  {
   "cell_type": "code",
   "execution_count": 9,
   "metadata": {},
   "outputs": [],
   "source": [
    "reg = RandomForestClassifier(criterion = 'entropy', random_state = 0)\n",
    "reg.fit(X_train,y_train)\n",
    "Y_pred = reg.predict(X_test)"
   ]
  },
  {
   "cell_type": "code",
   "execution_count": 10,
   "metadata": {},
   "outputs": [
    {
     "name": "stdout",
     "output_type": "stream",
     "text": [
      "Accuracy - test set: 100.00%\n"
     ]
    }
   ],
   "source": [
    "#accuracy on test set\n",
    "accuracy = reg.score(X_test, y_test)\n",
    "print(\"Accuracy - test set: %.2f%%\" % (accuracy*100.0))"
   ]
  },
  {
   "cell_type": "markdown",
   "metadata": {},
   "source": [
    "### Support vector machine (SVM)"
   ]
  },
  {
   "cell_type": "code",
   "execution_count": 11,
   "metadata": {},
   "outputs": [],
   "source": [
    "from sklearn.svm import SVC"
   ]
  },
  {
   "cell_type": "code",
   "execution_count": 12,
   "metadata": {},
   "outputs": [],
   "source": [
    "X = data.drop(\"target\", axis=1) # Features are all columns except target\n",
    "y = data[\"target\"] # Target is the column named target\n",
    "\n",
    "X_train, X_test, y_train, y_test = train_test_split(X, y, test_size=0.3, random_state=5)"
   ]
  },
  {
   "cell_type": "code",
   "execution_count": 13,
   "metadata": {},
   "outputs": [],
   "source": [
    "reg = SVC()\n",
    "reg.fit(X_train,y_train)\n",
    "Y_pred = reg.predict(X_test)"
   ]
  },
  {
   "cell_type": "code",
   "execution_count": 14,
   "metadata": {},
   "outputs": [
    {
     "name": "stdout",
     "output_type": "stream",
     "text": [
      "Accuracy - test set: 70.78%\n"
     ]
    }
   ],
   "source": [
    "#accuracy on test set\n",
    "accuracy = reg.score(X_test, y_test)\n",
    "print(\"Accuracy - test set: %.2f%%\" % (accuracy*100.0))"
   ]
  },
  {
   "cell_type": "markdown",
   "metadata": {},
   "source": [
    "### Logistic Regression"
   ]
  },
  {
   "cell_type": "code",
   "execution_count": 15,
   "metadata": {},
   "outputs": [],
   "source": [
    "from sklearn.linear_model import LogisticRegression"
   ]
  },
  {
   "cell_type": "code",
   "execution_count": 16,
   "metadata": {},
   "outputs": [],
   "source": [
    "X = data.drop(\"target\", axis=1) # Features are all columns except target\n",
    "y = data[\"target\"] # Target is the column named target\n",
    "\n",
    "X_train, X_test, y_train, y_test = train_test_split(X, y, test_size=0.2, random_state=7)"
   ]
  },
  {
   "cell_type": "code",
   "execution_count": 17,
   "metadata": {},
   "outputs": [],
   "source": [
    "reg = LogisticRegression(max_iter=1000, random_state=0)\n",
    "reg.fit(X_train,y_train)\n",
    "Y_pred = reg.predict(X_test)"
   ]
  },
  {
   "cell_type": "code",
   "execution_count": 18,
   "metadata": {},
   "outputs": [
    {
     "name": "stdout",
     "output_type": "stream",
     "text": [
      "Accuracy - test set: 87.80%\n"
     ]
    }
   ],
   "source": [
    "#accuracy on test set\n",
    "accuracy = reg.score(X_test, y_test)\n",
    "print(\"Accuracy - test set: %.2f%%\" % (accuracy*100.0))"
   ]
  },
  {
   "cell_type": "markdown",
   "metadata": {},
   "source": [
    "### K-Nearest Neighbour (KNN)"
   ]
  },
  {
   "cell_type": "code",
   "execution_count": 19,
   "metadata": {},
   "outputs": [],
   "source": [
    "from sklearn.neighbors import KNeighborsClassifier"
   ]
  },
  {
   "cell_type": "code",
   "execution_count": 20,
   "metadata": {},
   "outputs": [],
   "source": [
    "X = data.drop(\"target\", axis=1) # Features are all columns except target\n",
    "y = data[\"target\"] # Target is the column named target\n",
    "\n",
    "X_train, X_test, y_train, y_test = train_test_split(X, y, test_size=0.2, random_state=7)"
   ]
  },
  {
   "cell_type": "code",
   "execution_count": 21,
   "metadata": {},
   "outputs": [],
   "source": [
    "reg = KNeighborsClassifier()\n",
    "reg.fit(X_train,y_train)\n",
    "Y_pred = reg.predict(X_test)"
   ]
  },
  {
   "cell_type": "code",
   "execution_count": 22,
   "metadata": {},
   "outputs": [
    {
     "name": "stdout",
     "output_type": "stream",
     "text": [
      "Accuracy - test set: 74.63%\n"
     ]
    }
   ],
   "source": [
    "#accuracy on test set\n",
    "accuracy = reg.score(X_test, y_test)\n",
    "print(\"Accuracy - test set: %.2f%%\" % (accuracy*100.0))"
   ]
  },
  {
   "cell_type": "markdown",
   "metadata": {},
   "source": [
    "### Naive Byes"
   ]
  },
  {
   "cell_type": "code",
   "execution_count": 23,
   "metadata": {},
   "outputs": [],
   "source": [
    "from sklearn.naive_bayes import GaussianNB"
   ]
  },
  {
   "cell_type": "code",
   "execution_count": 24,
   "metadata": {},
   "outputs": [],
   "source": [
    "X = data.drop(\"target\", axis=1) # Features are all columns except target\n",
    "y = data[\"target\"] # Target is the column named target\n",
    "\n",
    "X_train, X_test, y_train, y_test = train_test_split(X, y, test_size=0.2, random_state=7)"
   ]
  },
  {
   "cell_type": "code",
   "execution_count": 25,
   "metadata": {},
   "outputs": [],
   "source": [
    "reg = GaussianNB()\n",
    "reg.fit(X_train,y_train)\n",
    "Y_pred = reg.predict(X_test)"
   ]
  },
  {
   "cell_type": "code",
   "execution_count": 26,
   "metadata": {},
   "outputs": [
    {
     "name": "stdout",
     "output_type": "stream",
     "text": [
      "Accuracy - test set: 84.88%\n"
     ]
    }
   ],
   "source": [
    "#accuracy on test set\n",
    "accuracy = reg.score(X_test, y_test)\n",
    "print(\"Accuracy - test set: %.2f%%\" % (accuracy*100.0))"
   ]
  },
  {
   "cell_type": "markdown",
   "metadata": {},
   "source": [
    "### Deep Neural Networks (DNN)"
   ]
  },
  {
   "cell_type": "code",
   "execution_count": 27,
   "metadata": {},
   "outputs": [],
   "source": [
    "from keras.models import Sequential\n",
    "from keras.layers import Dense"
   ]
  },
  {
   "cell_type": "code",
   "execution_count": 28,
   "metadata": {},
   "outputs": [],
   "source": [
    "df = pd.read_csv(\"heart.csv\")\n",
    "x=df.drop('target',axis=1)\n",
    "y=df['target']\n",
    "x_train,x_test,y_train,y_test = train_test_split(x,y,test_size=0.25,random_state=42)"
   ]
  },
  {
   "cell_type": "code",
   "execution_count": 29,
   "metadata": {},
   "outputs": [],
   "source": [
    "model = Sequential()\n",
    "model.add(Dense(500, activation='relu', input_dim=13))\n",
    "model.add(Dense(100, activation='relu'))\n",
    "model.add(Dense(50, activation='relu'))\n",
    "model.add(Dense(1, activation='sigmoid'))\n"
   ]
  },
  {
   "cell_type": "code",
   "execution_count": 30,
   "metadata": {},
   "outputs": [
    {
     "name": "stdout",
     "output_type": "stream",
     "text": [
      "Epoch 1/100\n",
      "24/24 [==============================] - 0s 893us/step - loss: 2.4231 - accuracy: 0.5859\n",
      "Epoch 2/100\n",
      " 1/24 [>.............................] - ETA: 0s - loss: 0.5783 - accuracy: 0.6562"
     ]
    },
    {
     "name": "stderr",
     "output_type": "stream",
     "text": [
      "2023-10-19 11:48:53.345418: W tensorflow/tsl/platform/profile_utils/cpu_utils.cc:128] Failed to get CPU frequency: 0 Hz\n"
     ]
    },
    {
     "name": "stdout",
     "output_type": "stream",
     "text": [
      "24/24 [==============================] - 0s 764us/step - loss: 0.7482 - accuracy: 0.6745\n",
      "Epoch 3/100\n",
      "24/24 [==============================] - 0s 776us/step - loss: 0.5802 - accuracy: 0.6966\n",
      "Epoch 4/100\n",
      "24/24 [==============================] - 0s 784us/step - loss: 0.7572 - accuracy: 0.6797\n",
      "Epoch 5/100\n",
      "24/24 [==============================] - 0s 983us/step - loss: 0.5499 - accuracy: 0.7331\n",
      "Epoch 6/100\n",
      "24/24 [==============================] - 0s 959us/step - loss: 0.4920 - accuracy: 0.7643\n",
      "Epoch 7/100\n",
      "24/24 [==============================] - 0s 873us/step - loss: 0.6359 - accuracy: 0.7174\n",
      "Epoch 8/100\n",
      "24/24 [==============================] - 0s 885us/step - loss: 0.6048 - accuracy: 0.7422\n",
      "Epoch 9/100\n",
      "24/24 [==============================] - 0s 897us/step - loss: 0.5919 - accuracy: 0.7188\n",
      "Epoch 10/100\n",
      "24/24 [==============================] - 0s 891us/step - loss: 0.5338 - accuracy: 0.7617\n",
      "Epoch 11/100\n",
      "24/24 [==============================] - 0s 874us/step - loss: 0.6127 - accuracy: 0.7370\n",
      "Epoch 12/100\n",
      "24/24 [==============================] - 0s 1ms/step - loss: 0.4715 - accuracy: 0.7812\n",
      "Epoch 13/100\n",
      "24/24 [==============================] - 0s 936us/step - loss: 0.8541 - accuracy: 0.6901\n",
      "Epoch 14/100\n",
      "24/24 [==============================] - 0s 873us/step - loss: 0.5760 - accuracy: 0.7695\n",
      "Epoch 15/100\n",
      "24/24 [==============================] - 0s 886us/step - loss: 0.5307 - accuracy: 0.7682\n",
      "Epoch 16/100\n",
      "24/24 [==============================] - 0s 873us/step - loss: 0.4472 - accuracy: 0.8112\n",
      "Epoch 17/100\n",
      "24/24 [==============================] - 0s 871us/step - loss: 0.5825 - accuracy: 0.7643\n",
      "Epoch 18/100\n",
      "24/24 [==============================] - 0s 892us/step - loss: 0.3625 - accuracy: 0.8424\n",
      "Epoch 19/100\n",
      "24/24 [==============================] - 0s 872us/step - loss: 0.3661 - accuracy: 0.8464\n",
      "Epoch 20/100\n",
      "24/24 [==============================] - 0s 899us/step - loss: 0.3826 - accuracy: 0.8216\n",
      "Epoch 21/100\n",
      "24/24 [==============================] - 0s 877us/step - loss: 0.3889 - accuracy: 0.8333\n",
      "Epoch 22/100\n",
      "24/24 [==============================] - 0s 860us/step - loss: 0.3913 - accuracy: 0.8242\n",
      "Epoch 23/100\n",
      "24/24 [==============================] - 0s 878us/step - loss: 0.4192 - accuracy: 0.8125\n",
      "Epoch 24/100\n",
      "24/24 [==============================] - 0s 909us/step - loss: 0.3966 - accuracy: 0.8008\n",
      "Epoch 25/100\n",
      "24/24 [==============================] - 0s 882us/step - loss: 0.5117 - accuracy: 0.7721\n",
      "Epoch 26/100\n",
      "24/24 [==============================] - 0s 882us/step - loss: 0.3800 - accuracy: 0.8372\n",
      "Epoch 27/100\n",
      "24/24 [==============================] - 0s 987us/step - loss: 0.3377 - accuracy: 0.8607\n",
      "Epoch 28/100\n",
      "24/24 [==============================] - 0s 949us/step - loss: 0.4112 - accuracy: 0.8047\n",
      "Epoch 29/100\n",
      "24/24 [==============================] - 0s 885us/step - loss: 0.3824 - accuracy: 0.8411\n",
      "Epoch 30/100\n",
      "24/24 [==============================] - 0s 879us/step - loss: 0.4068 - accuracy: 0.8229\n",
      "Epoch 31/100\n",
      "24/24 [==============================] - 0s 893us/step - loss: 0.3565 - accuracy: 0.8503\n",
      "Epoch 32/100\n",
      "24/24 [==============================] - 0s 909us/step - loss: 0.3366 - accuracy: 0.8711\n",
      "Epoch 33/100\n",
      "24/24 [==============================] - 0s 894us/step - loss: 0.4001 - accuracy: 0.8242\n",
      "Epoch 34/100\n",
      "24/24 [==============================] - 0s 869us/step - loss: 0.4935 - accuracy: 0.7982\n",
      "Epoch 35/100\n",
      "24/24 [==============================] - 0s 924us/step - loss: 0.5248 - accuracy: 0.7786\n",
      "Epoch 36/100\n",
      "24/24 [==============================] - 0s 909us/step - loss: 0.3680 - accuracy: 0.8411\n",
      "Epoch 37/100\n",
      "24/24 [==============================] - 0s 891us/step - loss: 0.3560 - accuracy: 0.8411\n",
      "Epoch 38/100\n",
      "24/24 [==============================] - 0s 879us/step - loss: 0.3836 - accuracy: 0.8359\n",
      "Epoch 39/100\n",
      "24/24 [==============================] - 0s 897us/step - loss: 0.3815 - accuracy: 0.8294\n",
      "Epoch 40/100\n",
      "24/24 [==============================] - 0s 874us/step - loss: 0.4826 - accuracy: 0.7982\n",
      "Epoch 41/100\n",
      "24/24 [==============================] - 0s 2ms/step - loss: 0.3446 - accuracy: 0.8555\n",
      "Epoch 42/100\n",
      "24/24 [==============================] - 0s 912us/step - loss: 0.3747 - accuracy: 0.8385\n",
      "Epoch 43/100\n",
      "24/24 [==============================] - 0s 1ms/step - loss: 0.3948 - accuracy: 0.8229\n",
      "Epoch 44/100\n",
      "24/24 [==============================] - 0s 1ms/step - loss: 0.3664 - accuracy: 0.8451\n",
      "Epoch 45/100\n",
      "24/24 [==============================] - 0s 1ms/step - loss: 0.3327 - accuracy: 0.8685\n",
      "Epoch 46/100\n",
      "24/24 [==============================] - 0s 1ms/step - loss: 0.3314 - accuracy: 0.8607\n",
      "Epoch 47/100\n",
      "24/24 [==============================] - 0s 1ms/step - loss: 0.3413 - accuracy: 0.8529\n",
      "Epoch 48/100\n",
      "24/24 [==============================] - 0s 1ms/step - loss: 0.3233 - accuracy: 0.8633\n",
      "Epoch 49/100\n",
      "24/24 [==============================] - 0s 1ms/step - loss: 0.3123 - accuracy: 0.8789\n",
      "Epoch 50/100\n",
      "24/24 [==============================] - 0s 1ms/step - loss: 0.3577 - accuracy: 0.8307\n",
      "Epoch 51/100\n",
      "24/24 [==============================] - 0s 1ms/step - loss: 0.3733 - accuracy: 0.8529\n",
      "Epoch 52/100\n",
      "24/24 [==============================] - 0s 1ms/step - loss: 0.3400 - accuracy: 0.8594\n",
      "Epoch 53/100\n",
      "24/24 [==============================] - 0s 1ms/step - loss: 0.3626 - accuracy: 0.8438\n",
      "Epoch 54/100\n",
      "24/24 [==============================] - 0s 1ms/step - loss: 0.3619 - accuracy: 0.8477\n",
      "Epoch 55/100\n",
      "24/24 [==============================] - 0s 1ms/step - loss: 0.3506 - accuracy: 0.8398\n",
      "Epoch 56/100\n",
      "24/24 [==============================] - 0s 1ms/step - loss: 0.3459 - accuracy: 0.8411\n",
      "Epoch 57/100\n",
      "24/24 [==============================] - 0s 1ms/step - loss: 0.3610 - accuracy: 0.8372\n",
      "Epoch 58/100\n",
      "24/24 [==============================] - 0s 1ms/step - loss: 0.3378 - accuracy: 0.8503\n",
      "Epoch 59/100\n",
      "24/24 [==============================] - 0s 2ms/step - loss: 0.3441 - accuracy: 0.8516\n",
      "Epoch 60/100\n",
      "24/24 [==============================] - 0s 1ms/step - loss: 0.3522 - accuracy: 0.8477\n",
      "Epoch 61/100\n",
      "24/24 [==============================] - 0s 1ms/step - loss: 0.3293 - accuracy: 0.8789\n",
      "Epoch 62/100\n",
      "24/24 [==============================] - 0s 1ms/step - loss: 0.3184 - accuracy: 0.8607\n",
      "Epoch 63/100\n",
      "24/24 [==============================] - 0s 1ms/step - loss: 0.3240 - accuracy: 0.8633\n",
      "Epoch 64/100\n",
      "24/24 [==============================] - 0s 1ms/step - loss: 0.3268 - accuracy: 0.8555\n",
      "Epoch 65/100\n",
      "24/24 [==============================] - 0s 1ms/step - loss: 0.4081 - accuracy: 0.8242\n",
      "Epoch 66/100\n",
      "24/24 [==============================] - 0s 1ms/step - loss: 0.3622 - accuracy: 0.8464\n",
      "Epoch 67/100\n",
      "24/24 [==============================] - 0s 949us/step - loss: 0.3790 - accuracy: 0.8333\n",
      "Epoch 68/100\n",
      "24/24 [==============================] - 0s 964us/step - loss: 0.3437 - accuracy: 0.8464\n",
      "Epoch 69/100\n",
      "24/24 [==============================] - 0s 967us/step - loss: 0.3403 - accuracy: 0.8594\n",
      "Epoch 70/100\n",
      "24/24 [==============================] - 0s 944us/step - loss: 0.3411 - accuracy: 0.8516\n",
      "Epoch 71/100\n",
      "24/24 [==============================] - 0s 890us/step - loss: 0.3218 - accuracy: 0.8672\n",
      "Epoch 72/100\n",
      "24/24 [==============================] - 0s 978us/step - loss: 0.3182 - accuracy: 0.8607\n",
      "Epoch 73/100\n",
      "24/24 [==============================] - 0s 982us/step - loss: 0.3230 - accuracy: 0.8607\n",
      "Epoch 74/100\n",
      "24/24 [==============================] - 0s 920us/step - loss: 0.3162 - accuracy: 0.8594\n",
      "Epoch 75/100\n",
      "24/24 [==============================] - 0s 916us/step - loss: 0.3502 - accuracy: 0.8424\n",
      "Epoch 76/100\n",
      "24/24 [==============================] - 0s 917us/step - loss: 0.3108 - accuracy: 0.8672\n",
      "Epoch 77/100\n",
      "24/24 [==============================] - 0s 922us/step - loss: 0.3282 - accuracy: 0.8568\n",
      "Epoch 78/100\n",
      "24/24 [==============================] - 0s 925us/step - loss: 0.3665 - accuracy: 0.8503\n",
      "Epoch 79/100\n",
      "24/24 [==============================] - 0s 988us/step - loss: 0.4784 - accuracy: 0.7917\n",
      "Epoch 80/100\n",
      "24/24 [==============================] - 0s 1ms/step - loss: 0.3263 - accuracy: 0.8542\n",
      "Epoch 81/100\n",
      "24/24 [==============================] - 0s 2ms/step - loss: 0.3277 - accuracy: 0.8620\n",
      "Epoch 82/100\n",
      "24/24 [==============================] - 0s 1ms/step - loss: 0.3477 - accuracy: 0.8477\n",
      "Epoch 83/100\n",
      "24/24 [==============================] - 0s 1ms/step - loss: 0.3960 - accuracy: 0.8242\n",
      "Epoch 84/100\n",
      "24/24 [==============================] - 0s 1ms/step - loss: 0.3456 - accuracy: 0.8503\n",
      "Epoch 85/100\n",
      "24/24 [==============================] - 0s 1ms/step - loss: 0.4591 - accuracy: 0.8099\n",
      "Epoch 86/100\n",
      "24/24 [==============================] - 0s 1ms/step - loss: 0.3183 - accuracy: 0.8724\n",
      "Epoch 87/100\n",
      "24/24 [==============================] - 0s 943us/step - loss: 0.3127 - accuracy: 0.8568\n",
      "Epoch 88/100\n",
      "24/24 [==============================] - 0s 928us/step - loss: 0.3118 - accuracy: 0.8646\n",
      "Epoch 89/100\n",
      "24/24 [==============================] - 0s 934us/step - loss: 0.3042 - accuracy: 0.8711\n",
      "Epoch 90/100\n",
      "24/24 [==============================] - 0s 922us/step - loss: 0.3108 - accuracy: 0.8646\n",
      "Epoch 91/100\n",
      "24/24 [==============================] - 0s 891us/step - loss: 0.3424 - accuracy: 0.8477\n",
      "Epoch 92/100\n",
      "24/24 [==============================] - 0s 1ms/step - loss: 0.3005 - accuracy: 0.8737\n",
      "Epoch 93/100\n",
      "24/24 [==============================] - 0s 928us/step - loss: 0.3241 - accuracy: 0.8685\n",
      "Epoch 94/100\n",
      "24/24 [==============================] - 0s 901us/step - loss: 0.3099 - accuracy: 0.8646\n",
      "Epoch 95/100\n",
      "24/24 [==============================] - 0s 907us/step - loss: 0.3794 - accuracy: 0.8333\n",
      "Epoch 96/100\n",
      "24/24 [==============================] - 0s 921us/step - loss: 0.3083 - accuracy: 0.8698\n",
      "Epoch 97/100\n",
      "24/24 [==============================] - 0s 922us/step - loss: 0.3016 - accuracy: 0.8841\n",
      "Epoch 98/100\n",
      "24/24 [==============================] - 0s 914us/step - loss: 0.3309 - accuracy: 0.8477\n",
      "Epoch 99/100\n",
      "24/24 [==============================] - 0s 942us/step - loss: 0.3086 - accuracy: 0.8711\n",
      "Epoch 100/100\n",
      "24/24 [==============================] - 0s 922us/step - loss: 0.3103 - accuracy: 0.8646\n",
      "9/9 [==============================] - 0s 535us/step\n",
      "[[9.89791214e-01]\n",
      " [9.98077989e-01]\n",
      " [6.82594255e-02]\n",
      " [9.65576172e-01]\n",
      " [1.10373408e-01]\n",
      " [9.60531175e-01]\n",
      " [8.95935893e-02]\n",
      " [5.10207564e-02]\n",
      " [8.25485945e-01]\n",
      " [5.45729743e-03]\n",
      " [9.86442566e-01]\n",
      " [1.79609340e-02]\n",
      " [8.70460570e-01]\n",
      " [9.99996305e-01]\n",
      " [6.83896169e-02]\n",
      " [9.68570113e-01]\n",
      " [3.49514708e-02]\n",
      " [9.99158025e-01]\n",
      " [9.33838546e-01]\n",
      " [3.83914821e-02]\n",
      " [8.12002301e-01]\n",
      " [1.70312881e-01]\n",
      " [5.32994211e-01]\n",
      " [6.03251066e-03]\n",
      " [8.12002301e-01]\n",
      " [9.64059711e-01]\n",
      " [9.52900350e-01]\n",
      " [4.63476211e-01]\n",
      " [3.79375368e-02]\n",
      " [9.64357078e-01]\n",
      " [7.02654481e-01]\n",
      " [6.81356430e-01]\n",
      " [6.28259659e-01]\n",
      " [9.98077989e-01]\n",
      " [9.16823328e-01]\n",
      " [9.45217848e-01]\n",
      " [8.12002301e-01]\n",
      " [7.73900509e-01]\n",
      " [9.14658546e-01]\n",
      " [9.76277828e-01]\n",
      " [5.10207564e-02]\n",
      " [4.55700234e-02]\n",
      " [8.24387550e-01]\n",
      " [5.32994211e-01]\n",
      " [9.42792743e-03]\n",
      " [3.05395713e-03]\n",
      " [5.15992902e-02]\n",
      " [5.03894687e-01]\n",
      " [4.61637765e-01]\n",
      " [7.26430535e-01]\n",
      " [3.91634107e-01]\n",
      " [1.42382523e-02]\n",
      " [8.44625115e-01]\n",
      " [4.45309794e-03]\n",
      " [9.52900350e-01]\n",
      " [9.14658546e-01]\n",
      " [2.76673168e-01]\n",
      " [1.47591131e-02]\n",
      " [8.74733567e-01]\n",
      " [9.87867832e-01]\n",
      " [6.14367187e-01]\n",
      " [2.10891619e-01]\n",
      " [3.79375368e-02]\n",
      " [7.26430535e-01]\n",
      " [4.20856476e-02]\n",
      " [1.70034803e-02]\n",
      " [9.97765064e-01]\n",
      " [6.14621341e-01]\n",
      " [3.05395713e-03]\n",
      " [9.98197138e-01]\n",
      " [4.64413494e-01]\n",
      " [3.79375368e-02]\n",
      " [3.22156042e-01]\n",
      " [9.39378917e-01]\n",
      " [8.38659406e-01]\n",
      " [7.44841576e-01]\n",
      " [8.95935893e-02]\n",
      " [9.24756467e-01]\n",
      " [7.13069975e-01]\n",
      " [9.01500165e-01]\n",
      " [2.16228709e-01]\n",
      " [4.76639830e-02]\n",
      " [6.60011396e-02]\n",
      " [5.26595190e-02]\n",
      " [9.76536095e-01]\n",
      " [1.71720181e-02]\n",
      " [9.86442566e-01]\n",
      " [1.87574029e-01]\n",
      " [2.16228709e-01]\n",
      " [9.64357078e-01]\n",
      " [7.48010099e-01]\n",
      " [3.83914821e-02]\n",
      " [9.78573978e-01]\n",
      " [9.54759359e-01]\n",
      " [8.96615028e-01]\n",
      " [7.99161911e-01]\n",
      " [6.14621341e-01]\n",
      " [1.05327345e-01]\n",
      " [1.25218183e-03]\n",
      " [1.06800392e-01]\n",
      " [9.99484062e-01]\n",
      " [2.88022846e-01]\n",
      " [8.30592215e-01]\n",
      " [8.52093339e-01]\n",
      " [5.29549234e-02]\n",
      " [9.85661864e-01]\n",
      " [1.47591131e-02]\n",
      " [8.93538535e-01]\n",
      " [3.93493086e-01]\n",
      " [9.84128475e-01]\n",
      " [8.74733567e-01]\n",
      " [9.84128475e-01]\n",
      " [9.97106969e-01]\n",
      " [1.35524869e-01]\n",
      " [8.96621466e-01]\n",
      " [9.91221547e-01]\n",
      " [7.87100852e-01]\n",
      " [9.12211955e-01]\n",
      " [8.08276057e-01]\n",
      " [1.87500957e-02]\n",
      " [9.40200865e-01]\n",
      " [7.71336198e-01]\n",
      " [1.40831331e-02]\n",
      " [2.73825854e-01]\n",
      " [1.77678481e-01]\n",
      " [6.03251066e-03]\n",
      " [8.90433431e-01]\n",
      " [8.62511456e-01]\n",
      " [4.64413494e-01]\n",
      " [9.55387592e-01]\n",
      " [6.81356430e-01]\n",
      " [1.25218183e-03]\n",
      " [9.94814456e-01]\n",
      " [9.99484062e-01]\n",
      " [8.01133290e-02]\n",
      " [9.96405303e-01]\n",
      " [1.68187823e-03]\n",
      " [7.71336198e-01]\n",
      " [9.96405303e-01]\n",
      " [7.87100852e-01]\n",
      " [6.96875036e-01]\n",
      " [9.67415214e-01]\n",
      " [9.72476363e-01]\n",
      " [2.31356993e-01]\n",
      " [8.14747334e-01]\n",
      " [9.26864386e-01]\n",
      " [3.91634107e-01]\n",
      " [9.66349721e-01]\n",
      " [7.87261665e-01]\n",
      " [9.19087157e-02]\n",
      " [6.28259659e-01]\n",
      " [3.05395713e-03]\n",
      " [8.57893765e-01]\n",
      " [6.96875036e-01]\n",
      " [4.94917721e-01]\n",
      " [1.61571383e-01]\n",
      " [9.43844438e-01]\n",
      " [9.55387592e-01]\n",
      " [3.46335858e-01]\n",
      " [4.55700234e-02]\n",
      " [8.24387550e-01]\n",
      " [9.93944645e-01]\n",
      " [2.88022846e-01]\n",
      " [2.88022846e-01]\n",
      " [1.64220095e-01]\n",
      " [4.61328685e-01]\n",
      " [2.11676151e-01]\n",
      " [1.00069948e-01]\n",
      " [2.60805458e-01]\n",
      " [9.66349721e-01]\n",
      " [3.22156042e-01]\n",
      " [6.71644807e-01]\n",
      " [9.95913088e-01]\n",
      " [1.20315555e-04]\n",
      " [9.30549502e-01]\n",
      " [9.98077989e-01]\n",
      " [9.98676598e-01]\n",
      " [1.14985846e-03]\n",
      " [8.30592215e-01]\n",
      " [9.82556224e-01]\n",
      " [9.92645085e-01]\n",
      " [1.57962106e-02]\n",
      " [8.70904803e-01]\n",
      " [8.44625115e-01]\n",
      " [8.23444366e-01]\n",
      " [8.08276057e-01]\n",
      " [9.16823328e-01]\n",
      " [8.74733567e-01]\n",
      " [8.21791470e-01]\n",
      " [9.91623342e-01]\n",
      " [9.92226124e-01]\n",
      " [7.13069975e-01]\n",
      " [6.25787973e-01]\n",
      " [8.44625115e-01]\n",
      " [1.47591131e-02]\n",
      " [2.71679252e-01]\n",
      " [9.47842956e-01]\n",
      " [1.63026694e-02]\n",
      " [9.73878026e-01]\n",
      " [9.89868701e-01]\n",
      " [7.25930035e-01]\n",
      " [8.76683593e-01]\n",
      " [9.89868701e-01]\n",
      " [4.98557277e-02]\n",
      " [4.59176421e-01]\n",
      " [7.46224299e-02]\n",
      " [8.32468510e-01]\n",
      " [9.92870450e-01]\n",
      " [7.54573643e-01]\n",
      " [7.71336198e-01]\n",
      " [8.76683593e-01]\n",
      " [1.85511008e-01]\n",
      " [9.99647379e-01]\n",
      " [7.48010099e-01]\n",
      " [1.61571383e-01]\n",
      " [1.92239299e-01]\n",
      " [7.79559255e-01]\n",
      " [2.11676151e-01]\n",
      " [6.40963495e-01]\n",
      " [8.01133290e-02]\n",
      " [6.99593425e-01]\n",
      " [6.60011396e-02]\n",
      " [1.06800392e-01]\n",
      " [9.88168895e-01]\n",
      " [9.16627347e-01]\n",
      " [8.58030736e-01]\n",
      " [9.12211955e-01]\n",
      " [8.26748371e-01]\n",
      " [1.79609340e-02]\n",
      " [9.40200865e-01]\n",
      " [6.25787973e-01]\n",
      " [6.27863884e-01]\n",
      " [8.75355601e-01]\n",
      " [9.43844438e-01]\n",
      " [9.19087157e-02]\n",
      " [8.95935893e-02]\n",
      " [3.57853204e-01]\n",
      " [3.70674878e-01]\n",
      " [9.75125313e-01]\n",
      " [2.73280174e-01]\n",
      " [5.83043873e-01]\n",
      " [6.90340817e-01]\n",
      " [9.99010980e-01]\n",
      " [2.33983278e-01]\n",
      " [5.14719523e-02]\n",
      " [8.93538535e-01]\n",
      " [1.82102203e-01]\n",
      " [9.99484062e-01]\n",
      " [9.49367881e-01]\n",
      " [2.23166898e-01]\n",
      " [9.39378917e-01]\n",
      " [5.45729743e-03]\n",
      " [6.63367450e-01]\n",
      " [1.14985846e-03]\n",
      " [2.73825854e-01]\n",
      " [9.74811971e-01]\n",
      " [1.14907987e-01]]\n"
     ]
    }
   ],
   "source": [
    "model.compile(optimizer='adam', \n",
    "              loss='binary_crossentropy', \n",
    "              metrics=['accuracy'])\n",
    "model.fit(x_train,y_train, epochs=100)\n",
    "print(model.predict(x_test))"
   ]
  },
  {
   "cell_type": "code",
   "execution_count": 31,
   "metadata": {},
   "outputs": [
    {
     "name": "stdout",
     "output_type": "stream",
     "text": [
      "9/9 [==============================] - 0s 692us/step - loss: 0.4055 - accuracy: 0.8132\n",
      "Loss : 40.55%\n",
      "Accuracy : 81.32%\n"
     ]
    }
   ],
   "source": [
    "loss, accuracy = model.evaluate(x_test, y_test)\n",
    "print(f\"Loss : {loss * 100:.2f}%\")\n",
    "print(f\"Accuracy : {accuracy * 100:.2f}%\")"
   ]
  }
 ],
 "metadata": {
  "kernelspec": {
   "display_name": "base",
   "language": "python",
   "name": "python3"
  },
  "language_info": {
   "codemirror_mode": {
    "name": "ipython",
    "version": 3
   },
   "file_extension": ".py",
   "mimetype": "text/x-python",
   "name": "python",
   "nbconvert_exporter": "python",
   "pygments_lexer": "ipython3",
   "version": "3.11.3"
  },
  "orig_nbformat": 4
 },
 "nbformat": 4,
 "nbformat_minor": 2
}
