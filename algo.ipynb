{
 "cells": [
  {
   "cell_type": "markdown",
   "metadata": {},
   "source": [
    "# Prediction of Heart Attack Using Machine Learning Algorithms and Deep Learning\n",
    "\n",
    "#### By Reethu RG Thota"
   ]
  },
  {
   "cell_type": "code",
   "execution_count": 1,
   "metadata": {},
   "outputs": [],
   "source": [
    "import pandas as pd\n",
    "import numpy as np\n",
    "from sklearn.model_selection import train_test_split\n",
    "from sklearn.metrics import accuracy_score"
   ]
  },
  {
   "cell_type": "code",
   "execution_count": 2,
   "metadata": {},
   "outputs": [],
   "source": [
    "data = pd.read_csv(\"/Users/reethu/coding/Projects/Heart_Attack_Prediction/heart.csv\")"
   ]
  },
  {
   "cell_type": "markdown",
   "metadata": {},
   "source": [
    "### Decision Tree Classifier"
   ]
  },
  {
   "cell_type": "code",
   "execution_count": 3,
   "metadata": {},
   "outputs": [],
   "source": [
    "from sklearn.tree import DecisionTreeClassifier"
   ]
  },
  {
   "cell_type": "code",
   "execution_count": 4,
   "metadata": {},
   "outputs": [],
   "source": [
    "X = data.drop(\"target\", axis=1) # Features are all columns except target\n",
    "y = data[\"target\"] # Label is the column named target\n",
    "\n",
    "X_train, X_test, y_train, y_test = train_test_split(X, y, test_size=0.2, random_state=7)"
   ]
  },
  {
   "cell_type": "code",
   "execution_count": 5,
   "metadata": {},
   "outputs": [],
   "source": [
    "reg = DecisionTreeClassifier(criterion = 'entropy', random_state = 0)\n",
    "reg.fit(X_train,y_train)\n",
    "\n",
    "Y_pred = reg.predict(X_test)"
   ]
  },
  {
   "cell_type": "code",
   "execution_count": 6,
   "metadata": {},
   "outputs": [
    {
     "name": "stdout",
     "output_type": "stream",
     "text": [
      "Accuracy - test set: 100.00%\n"
     ]
    }
   ],
   "source": [
    "#accuracy on test set\n",
    "accuracy = reg.score(X_test, y_test)\n",
    "print(\"Accuracy - test set: %.2f%%\" % (accuracy*100.0))"
   ]
  },
  {
   "cell_type": "markdown",
   "metadata": {},
   "source": [
    "### Random Forest Classifier"
   ]
  },
  {
   "cell_type": "code",
   "execution_count": 7,
   "metadata": {},
   "outputs": [],
   "source": [
    "from sklearn.ensemble import RandomForestClassifier"
   ]
  },
  {
   "cell_type": "code",
   "execution_count": 8,
   "metadata": {},
   "outputs": [],
   "source": [
    "X = data.drop(\"target\", axis=1) # Features are all columns except target\n",
    "y = data[\"target\"] # Target is the column named target\n",
    "\n",
    "X_train, X_test, y_train, y_test = train_test_split(X, y, test_size=0.3, random_state=5)"
   ]
  },
  {
   "cell_type": "code",
   "execution_count": 9,
   "metadata": {},
   "outputs": [],
   "source": [
    "reg = RandomForestClassifier(criterion = 'entropy', random_state = 0)\n",
    "reg.fit(X_train,y_train)\n",
    "Y_pred = reg.predict(X_test)"
   ]
  },
  {
   "cell_type": "code",
   "execution_count": 10,
   "metadata": {},
   "outputs": [
    {
     "name": "stdout",
     "output_type": "stream",
     "text": [
      "Accuracy - test set: 100.00%\n"
     ]
    }
   ],
   "source": [
    "#accuracy on test set\n",
    "accuracy = reg.score(X_test, y_test)\n",
    "print(\"Accuracy - test set: %.2f%%\" % (accuracy*100.0))"
   ]
  },
  {
   "cell_type": "markdown",
   "metadata": {},
   "source": [
    "### Support vector machine (SVM)"
   ]
  },
  {
   "cell_type": "code",
   "execution_count": 11,
   "metadata": {},
   "outputs": [],
   "source": [
    "from sklearn.svm import SVC"
   ]
  },
  {
   "cell_type": "code",
   "execution_count": 12,
   "metadata": {},
   "outputs": [],
   "source": [
    "X = data.drop(\"target\", axis=1) # Features are all columns except target\n",
    "y = data[\"target\"] # Target is the column named target\n",
    "\n",
    "X_train, X_test, y_train, y_test = train_test_split(X, y, test_size=0.2, random_state=5)"
   ]
  },
  {
   "cell_type": "code",
   "execution_count": 13,
   "metadata": {},
   "outputs": [],
   "source": [
    "reg = SVC()\n",
    "reg.fit(X_train,y_train)\n",
    "Y_pred = reg.predict(X_test)"
   ]
  },
  {
   "cell_type": "code",
   "execution_count": 14,
   "metadata": {},
   "outputs": [
    {
     "name": "stdout",
     "output_type": "stream",
     "text": [
      "Accuracy - test set: 73.66%\n"
     ]
    }
   ],
   "source": [
    "#accuracy on test set\n",
    "accuracy = reg.score(X_test, y_test)\n",
    "print(\"Accuracy - test set: %.2f%%\" % (accuracy*100.0))"
   ]
  },
  {
   "cell_type": "markdown",
   "metadata": {},
   "source": [
    "### Logistic Regression"
   ]
  },
  {
   "cell_type": "code",
   "execution_count": 15,
   "metadata": {},
   "outputs": [],
   "source": [
    "from sklearn.linear_model import LogisticRegression"
   ]
  },
  {
   "cell_type": "code",
   "execution_count": 16,
   "metadata": {},
   "outputs": [],
   "source": [
    "X = data.drop(\"target\", axis=1) # Features are all columns except target\n",
    "y = data[\"target\"] # Target is the column named target\n",
    "\n",
    "X_train, X_test, y_train, y_test = train_test_split(X, y, test_size=0.2, random_state=7)"
   ]
  },
  {
   "cell_type": "code",
   "execution_count": 17,
   "metadata": {},
   "outputs": [],
   "source": [
    "reg = LogisticRegression(max_iter=1000, random_state=0)\n",
    "reg.fit(X_train,y_train)\n",
    "Y_pred = reg.predict(X_test)"
   ]
  },
  {
   "cell_type": "code",
   "execution_count": 18,
   "metadata": {},
   "outputs": [
    {
     "name": "stdout",
     "output_type": "stream",
     "text": [
      "Accuracy - test set: 87.80%\n"
     ]
    }
   ],
   "source": [
    "#accuracy on test set\n",
    "accuracy = reg.score(X_test, y_test)\n",
    "print(\"Accuracy - test set: %.2f%%\" % (accuracy*100.0))"
   ]
  },
  {
   "cell_type": "markdown",
   "metadata": {},
   "source": [
    "### K-Nearest Neighbour (KNN)"
   ]
  },
  {
   "cell_type": "code",
   "execution_count": 19,
   "metadata": {},
   "outputs": [],
   "source": [
    "from sklearn.neighbors import KNeighborsClassifier"
   ]
  },
  {
   "cell_type": "code",
   "execution_count": 20,
   "metadata": {},
   "outputs": [],
   "source": [
    "X = data.drop(\"target\", axis=1) # Features are all columns except target\n",
    "y = data[\"target\"] # Target is the column named target\n",
    "\n",
    "X_train, X_test, y_train, y_test = train_test_split(X, y, test_size=0.2, random_state=7)"
   ]
  },
  {
   "cell_type": "code",
   "execution_count": 21,
   "metadata": {},
   "outputs": [],
   "source": [
    "reg = KNeighborsClassifier()\n",
    "reg.fit(X_train,y_train)\n",
    "Y_pred = reg.predict(X_test)"
   ]
  },
  {
   "cell_type": "code",
   "execution_count": 22,
   "metadata": {},
   "outputs": [
    {
     "name": "stdout",
     "output_type": "stream",
     "text": [
      "Accuracy - test set: 74.63%\n"
     ]
    }
   ],
   "source": [
    "#accuracy on test set\n",
    "accuracy = reg.score(X_test, y_test)\n",
    "print(\"Accuracy - test set: %.2f%%\" % (accuracy*100.0))"
   ]
  },
  {
   "cell_type": "markdown",
   "metadata": {},
   "source": [
    "### Naive Bayes"
   ]
  },
  {
   "cell_type": "code",
   "execution_count": 23,
   "metadata": {},
   "outputs": [],
   "source": [
    "from sklearn.naive_bayes import GaussianNB"
   ]
  },
  {
   "cell_type": "code",
   "execution_count": 24,
   "metadata": {},
   "outputs": [],
   "source": [
    "X = data.drop(\"target\", axis=1) # Features are all columns except target\n",
    "y = data[\"target\"] # Target is the column named target\n",
    "\n",
    "X_train, X_test, y_train, y_test = train_test_split(X, y, test_size=0.2, random_state=7)"
   ]
  },
  {
   "cell_type": "code",
   "execution_count": 25,
   "metadata": {},
   "outputs": [],
   "source": [
    "reg = GaussianNB()\n",
    "reg.fit(X_train,y_train)\n",
    "Y_pred = reg.predict(X_test)"
   ]
  },
  {
   "cell_type": "code",
   "execution_count": 26,
   "metadata": {},
   "outputs": [
    {
     "name": "stdout",
     "output_type": "stream",
     "text": [
      "Accuracy - test set: 84.88%\n"
     ]
    }
   ],
   "source": [
    "#accuracy on test set\n",
    "accuracy = reg.score(X_test, y_test)\n",
    "print(\"Accuracy - test set: %.2f%%\" % (accuracy*100.0))"
   ]
  },
  {
   "cell_type": "markdown",
   "metadata": {},
   "source": [
    "### Deep Neural Networks (DNN)"
   ]
  },
  {
   "cell_type": "code",
   "execution_count": 27,
   "metadata": {},
   "outputs": [],
   "source": [
    "from keras.models import Sequential\n",
    "from keras.layers import Dense"
   ]
  },
  {
   "cell_type": "code",
   "execution_count": 28,
   "metadata": {},
   "outputs": [],
   "source": [
    "df = pd.read_csv(\"heart.csv\")\n",
    "x = data.drop(\"target\", axis=1) # Features are all columns except target\n",
    "y = data[\"target\"] # Target is the column named target\n",
    "x_train,x_test,y_train,y_test = train_test_split(x,y,test_size=0.25,random_state=42)"
   ]
  },
  {
   "cell_type": "code",
   "execution_count": 29,
   "metadata": {},
   "outputs": [],
   "source": [
    "model = Sequential()\n",
    "model.add(Dense(500, activation='relu', input_dim=13))\n",
    "model.add(Dense(100, activation='relu'))\n",
    "model.add(Dense(50, activation='relu'))\n",
    "model.add(Dense(1, activation='sigmoid'))\n"
   ]
  },
  {
   "cell_type": "code",
   "execution_count": 30,
   "metadata": {},
   "outputs": [
    {
     "name": "stdout",
     "output_type": "stream",
     "text": [
      "Epoch 1/100\n",
      " 1/24 [>.............................] - ETA: 4s - loss: 2.1630 - accuracy: 0.4688"
     ]
    },
    {
     "name": "stderr",
     "output_type": "stream",
     "text": [
      "2023-10-25 10:49:50.722977: W tensorflow/tsl/platform/profile_utils/cpu_utils.cc:128] Failed to get CPU frequency: 0 Hz\n"
     ]
    },
    {
     "name": "stdout",
     "output_type": "stream",
     "text": [
      "24/24 [==============================] - 0s 892us/step - loss: 2.6871 - accuracy: 0.5417\n",
      "Epoch 2/100\n",
      "24/24 [==============================] - 0s 841us/step - loss: 0.6866 - accuracy: 0.6445\n",
      "Epoch 3/100\n",
      "24/24 [==============================] - 0s 825us/step - loss: 0.6216 - accuracy: 0.6901\n",
      "Epoch 4/100\n",
      "24/24 [==============================] - 0s 948us/step - loss: 0.5174 - accuracy: 0.7409\n",
      "Epoch 5/100\n",
      "24/24 [==============================] - 0s 1ms/step - loss: 0.5615 - accuracy: 0.7148\n",
      "Epoch 6/100\n",
      "24/24 [==============================] - 0s 966us/step - loss: 0.5143 - accuracy: 0.7435\n",
      "Epoch 7/100\n",
      "24/24 [==============================] - 0s 984us/step - loss: 0.5343 - accuracy: 0.7604\n",
      "Epoch 8/100\n",
      "24/24 [==============================] - 0s 917us/step - loss: 0.7556 - accuracy: 0.6888\n",
      "Epoch 9/100\n",
      "24/24 [==============================] - 0s 957us/step - loss: 0.7190 - accuracy: 0.7161\n",
      "Epoch 10/100\n",
      "24/24 [==============================] - 0s 919us/step - loss: 0.6773 - accuracy: 0.7018\n",
      "Epoch 11/100\n",
      "24/24 [==============================] - 0s 959us/step - loss: 0.4020 - accuracy: 0.8268\n",
      "Epoch 12/100\n",
      "24/24 [==============================] - 0s 1ms/step - loss: 0.4262 - accuracy: 0.7969\n",
      "Epoch 13/100\n",
      "24/24 [==============================] - 0s 948us/step - loss: 0.5047 - accuracy: 0.7617\n",
      "Epoch 14/100\n",
      "24/24 [==============================] - 0s 927us/step - loss: 0.4569 - accuracy: 0.8021\n",
      "Epoch 15/100\n",
      "24/24 [==============================] - 0s 931us/step - loss: 0.3943 - accuracy: 0.8294\n",
      "Epoch 16/100\n",
      "24/24 [==============================] - 0s 935us/step - loss: 0.3872 - accuracy: 0.8242\n",
      "Epoch 17/100\n",
      "24/24 [==============================] - 0s 899us/step - loss: 0.3545 - accuracy: 0.8503\n",
      "Epoch 18/100\n",
      "24/24 [==============================] - 0s 920us/step - loss: 0.4342 - accuracy: 0.8021\n",
      "Epoch 19/100\n",
      "24/24 [==============================] - 0s 934us/step - loss: 0.3760 - accuracy: 0.8190\n",
      "Epoch 20/100\n",
      "24/24 [==============================] - 0s 877us/step - loss: 0.4382 - accuracy: 0.8047\n",
      "Epoch 21/100\n",
      "24/24 [==============================] - 0s 884us/step - loss: 0.4578 - accuracy: 0.8086\n",
      "Epoch 22/100\n",
      "24/24 [==============================] - 0s 924us/step - loss: 0.5596 - accuracy: 0.7539\n",
      "Epoch 23/100\n",
      "24/24 [==============================] - 0s 923us/step - loss: 0.4611 - accuracy: 0.8021\n",
      "Epoch 24/100\n",
      "24/24 [==============================] - 0s 928us/step - loss: 0.3750 - accuracy: 0.8307\n",
      "Epoch 25/100\n",
      "24/24 [==============================] - 0s 2ms/step - loss: 0.3759 - accuracy: 0.8307\n",
      "Epoch 26/100\n",
      "24/24 [==============================] - 0s 946us/step - loss: 0.4515 - accuracy: 0.8008\n",
      "Epoch 27/100\n",
      "24/24 [==============================] - 0s 918us/step - loss: 0.3323 - accuracy: 0.8659\n",
      "Epoch 28/100\n",
      "24/24 [==============================] - 0s 911us/step - loss: 0.4143 - accuracy: 0.8073\n",
      "Epoch 29/100\n",
      "24/24 [==============================] - 0s 891us/step - loss: 0.4262 - accuracy: 0.8138\n",
      "Epoch 30/100\n",
      "24/24 [==============================] - 0s 901us/step - loss: 0.4037 - accuracy: 0.8190\n",
      "Epoch 31/100\n",
      "24/24 [==============================] - 0s 915us/step - loss: 0.3819 - accuracy: 0.8281\n",
      "Epoch 32/100\n",
      "24/24 [==============================] - 0s 896us/step - loss: 0.3887 - accuracy: 0.8151\n",
      "Epoch 33/100\n",
      "24/24 [==============================] - 0s 918us/step - loss: 0.4837 - accuracy: 0.7773\n",
      "Epoch 34/100\n",
      "24/24 [==============================] - 0s 910us/step - loss: 0.5036 - accuracy: 0.7708\n",
      "Epoch 35/100\n",
      "24/24 [==============================] - 0s 891us/step - loss: 0.4232 - accuracy: 0.8086\n",
      "Epoch 36/100\n",
      "24/24 [==============================] - 0s 924us/step - loss: 0.3344 - accuracy: 0.8685\n",
      "Epoch 37/100\n",
      "24/24 [==============================] - 0s 948us/step - loss: 0.3322 - accuracy: 0.8568\n",
      "Epoch 38/100\n",
      "24/24 [==============================] - 0s 934us/step - loss: 0.3350 - accuracy: 0.8464\n",
      "Epoch 39/100\n",
      "24/24 [==============================] - 0s 929us/step - loss: 0.3585 - accuracy: 0.8477\n",
      "Epoch 40/100\n",
      "24/24 [==============================] - 0s 900us/step - loss: 0.4353 - accuracy: 0.7917\n",
      "Epoch 41/100\n",
      "24/24 [==============================] - 0s 958us/step - loss: 0.3772 - accuracy: 0.8346\n",
      "Epoch 42/100\n",
      "24/24 [==============================] - 0s 900us/step - loss: 0.3393 - accuracy: 0.8568\n",
      "Epoch 43/100\n",
      "24/24 [==============================] - 0s 914us/step - loss: 0.3304 - accuracy: 0.8685\n",
      "Epoch 44/100\n",
      "24/24 [==============================] - 0s 947us/step - loss: 0.3401 - accuracy: 0.8529\n",
      "Epoch 45/100\n",
      "24/24 [==============================] - 0s 899us/step - loss: 0.4002 - accuracy: 0.8359\n",
      "Epoch 46/100\n",
      "24/24 [==============================] - 0s 897us/step - loss: 0.3744 - accuracy: 0.8398\n",
      "Epoch 47/100\n",
      "24/24 [==============================] - 0s 932us/step - loss: 0.3665 - accuracy: 0.8190\n",
      "Epoch 48/100\n",
      "24/24 [==============================] - 0s 935us/step - loss: 0.3250 - accuracy: 0.8581\n",
      "Epoch 49/100\n",
      "24/24 [==============================] - 0s 940us/step - loss: 0.3229 - accuracy: 0.8685\n",
      "Epoch 50/100\n",
      "24/24 [==============================] - 0s 890us/step - loss: 0.4029 - accuracy: 0.8229\n",
      "Epoch 51/100\n",
      "24/24 [==============================] - 0s 912us/step - loss: 0.3935 - accuracy: 0.8307\n",
      "Epoch 52/100\n",
      "24/24 [==============================] - 0s 903us/step - loss: 0.3247 - accuracy: 0.8815\n",
      "Epoch 53/100\n",
      "24/24 [==============================] - 0s 922us/step - loss: 0.4233 - accuracy: 0.8047\n",
      "Epoch 54/100\n",
      "24/24 [==============================] - 0s 1ms/step - loss: 0.3193 - accuracy: 0.8659\n",
      "Epoch 55/100\n",
      "24/24 [==============================] - 0s 1ms/step - loss: 0.3309 - accuracy: 0.8620\n",
      "Epoch 56/100\n",
      "24/24 [==============================] - 0s 921us/step - loss: 0.3365 - accuracy: 0.8633\n",
      "Epoch 57/100\n",
      "24/24 [==============================] - 0s 929us/step - loss: 0.3144 - accuracy: 0.8646\n",
      "Epoch 58/100\n",
      "24/24 [==============================] - 0s 921us/step - loss: 0.3989 - accuracy: 0.8268\n",
      "Epoch 59/100\n",
      "24/24 [==============================] - 0s 905us/step - loss: 0.3610 - accuracy: 0.8424\n",
      "Epoch 60/100\n",
      "24/24 [==============================] - 0s 900us/step - loss: 0.3362 - accuracy: 0.8490\n",
      "Epoch 61/100\n",
      "24/24 [==============================] - 0s 914us/step - loss: 0.4368 - accuracy: 0.8151\n",
      "Epoch 62/100\n",
      "24/24 [==============================] - 0s 928us/step - loss: 0.3661 - accuracy: 0.8424\n",
      "Epoch 63/100\n",
      "24/24 [==============================] - 0s 910us/step - loss: 0.3203 - accuracy: 0.8646\n",
      "Epoch 64/100\n",
      "24/24 [==============================] - 0s 909us/step - loss: 0.3369 - accuracy: 0.8503\n",
      "Epoch 65/100\n",
      "24/24 [==============================] - 0s 930us/step - loss: 0.3816 - accuracy: 0.8255\n",
      "Epoch 66/100\n",
      "24/24 [==============================] - 0s 909us/step - loss: 0.3325 - accuracy: 0.8594\n",
      "Epoch 67/100\n",
      "24/24 [==============================] - 0s 928us/step - loss: 0.3082 - accuracy: 0.8724\n",
      "Epoch 68/100\n",
      "24/24 [==============================] - 0s 903us/step - loss: 0.3224 - accuracy: 0.8607\n",
      "Epoch 69/100\n",
      "24/24 [==============================] - 0s 911us/step - loss: 0.3232 - accuracy: 0.8724\n",
      "Epoch 70/100\n",
      "24/24 [==============================] - 0s 938us/step - loss: 0.3362 - accuracy: 0.8503\n",
      "Epoch 71/100\n",
      "24/24 [==============================] - 0s 889us/step - loss: 0.3675 - accuracy: 0.8385\n",
      "Epoch 72/100\n",
      "24/24 [==============================] - 0s 913us/step - loss: 0.3239 - accuracy: 0.8659\n",
      "Epoch 73/100\n",
      "24/24 [==============================] - 0s 908us/step - loss: 0.3453 - accuracy: 0.8503\n",
      "Epoch 74/100\n",
      "24/24 [==============================] - 0s 929us/step - loss: 0.3411 - accuracy: 0.8464\n",
      "Epoch 75/100\n",
      "24/24 [==============================] - 0s 909us/step - loss: 0.3226 - accuracy: 0.8737\n",
      "Epoch 76/100\n",
      "24/24 [==============================] - 0s 912us/step - loss: 0.3298 - accuracy: 0.8581\n",
      "Epoch 77/100\n",
      "24/24 [==============================] - 0s 899us/step - loss: 0.3075 - accuracy: 0.8685\n",
      "Epoch 78/100\n",
      "24/24 [==============================] - 0s 919us/step - loss: 0.3348 - accuracy: 0.8542\n",
      "Epoch 79/100\n",
      "24/24 [==============================] - 0s 938us/step - loss: 0.3336 - accuracy: 0.8568\n",
      "Epoch 80/100\n",
      "24/24 [==============================] - 0s 2ms/step - loss: 0.3148 - accuracy: 0.8841\n",
      "Epoch 81/100\n",
      "24/24 [==============================] - 0s 908us/step - loss: 0.3252 - accuracy: 0.8633\n",
      "Epoch 82/100\n",
      "24/24 [==============================] - 0s 934us/step - loss: 0.3443 - accuracy: 0.8490\n",
      "Epoch 83/100\n",
      "24/24 [==============================] - 0s 896us/step - loss: 0.3225 - accuracy: 0.8646\n",
      "Epoch 84/100\n",
      "24/24 [==============================] - 0s 896us/step - loss: 0.3091 - accuracy: 0.8711\n",
      "Epoch 85/100\n",
      "24/24 [==============================] - 0s 928us/step - loss: 0.3056 - accuracy: 0.8698\n",
      "Epoch 86/100\n",
      "24/24 [==============================] - 0s 914us/step - loss: 0.3069 - accuracy: 0.8724\n",
      "Epoch 87/100\n",
      "24/24 [==============================] - 0s 942us/step - loss: 0.3068 - accuracy: 0.8659\n",
      "Epoch 88/100\n",
      "24/24 [==============================] - 0s 903us/step - loss: 0.3182 - accuracy: 0.8802\n",
      "Epoch 89/100\n",
      "24/24 [==============================] - 0s 899us/step - loss: 0.3238 - accuracy: 0.8633\n",
      "Epoch 90/100\n",
      "24/24 [==============================] - 0s 911us/step - loss: 0.3168 - accuracy: 0.8542\n",
      "Epoch 91/100\n",
      "24/24 [==============================] - 0s 901us/step - loss: 0.3506 - accuracy: 0.8451\n",
      "Epoch 92/100\n",
      "24/24 [==============================] - 0s 933us/step - loss: 0.3274 - accuracy: 0.8581\n",
      "Epoch 93/100\n",
      "24/24 [==============================] - 0s 925us/step - loss: 0.3307 - accuracy: 0.8424\n",
      "Epoch 94/100\n",
      "24/24 [==============================] - 0s 898us/step - loss: 0.3663 - accuracy: 0.8346\n",
      "Epoch 95/100\n",
      "24/24 [==============================] - 0s 949us/step - loss: 0.3100 - accuracy: 0.8490\n",
      "Epoch 96/100\n",
      "24/24 [==============================] - 0s 908us/step - loss: 0.3352 - accuracy: 0.8490\n",
      "Epoch 97/100\n",
      "24/24 [==============================] - 0s 912us/step - loss: 0.3178 - accuracy: 0.8737\n",
      "Epoch 98/100\n",
      "24/24 [==============================] - 0s 901us/step - loss: 0.3221 - accuracy: 0.8633\n",
      "Epoch 99/100\n",
      "24/24 [==============================] - 0s 905us/step - loss: 0.3165 - accuracy: 0.8711\n",
      "Epoch 100/100\n",
      "24/24 [==============================] - 0s 912us/step - loss: 0.2944 - accuracy: 0.8789\n",
      "9/9 [==============================] - 0s 479us/step\n",
      "[[9.80814040e-01]\n",
      " [9.86343682e-01]\n",
      " [4.59750667e-02]\n",
      " [9.19831991e-01]\n",
      " [5.38699701e-02]\n",
      " [7.62661457e-01]\n",
      " [3.01441848e-02]\n",
      " [2.28697080e-02]\n",
      " [7.40967572e-01]\n",
      " [1.33457836e-02]\n",
      " [9.46052253e-01]\n",
      " [5.38614346e-03]\n",
      " [6.85537100e-01]\n",
      " [9.99967635e-01]\n",
      " [7.40492344e-02]\n",
      " [9.25882280e-01]\n",
      " [1.31898746e-02]\n",
      " [9.99618888e-01]\n",
      " [9.74028528e-01]\n",
      " [1.51409218e-02]\n",
      " [5.09847164e-01]\n",
      " [9.40312222e-02]\n",
      " [2.78505683e-01]\n",
      " [1.09112402e-03]\n",
      " [5.09847164e-01]\n",
      " [9.92507935e-01]\n",
      " [8.52711797e-01]\n",
      " [3.39536279e-01]\n",
      " [4.41495795e-03]\n",
      " [7.82239795e-01]\n",
      " [5.53917050e-01]\n",
      " [3.22074085e-01]\n",
      " [4.98967677e-01]\n",
      " [9.86343682e-01]\n",
      " [8.42703402e-01]\n",
      " [8.67016017e-01]\n",
      " [5.09847164e-01]\n",
      " [4.07427460e-01]\n",
      " [8.90876055e-01]\n",
      " [9.44296539e-01]\n",
      " [2.28697080e-02]\n",
      " [4.05547358e-02]\n",
      " [6.28522158e-01]\n",
      " [2.78505683e-01]\n",
      " [1.55193694e-02]\n",
      " [4.68243333e-03]\n",
      " [4.05172743e-02]\n",
      " [3.37927818e-01]\n",
      " [3.48972321e-01]\n",
      " [6.14813328e-01]\n",
      " [1.97078779e-01]\n",
      " [4.89096064e-03]\n",
      " [6.76504970e-01]\n",
      " [3.74697265e-03]\n",
      " [8.52711797e-01]\n",
      " [8.90876055e-01]\n",
      " [1.43018186e-01]\n",
      " [8.84340052e-03]\n",
      " [8.19110334e-01]\n",
      " [9.81085956e-01]\n",
      " [4.46961641e-01]\n",
      " [1.04982540e-01]\n",
      " [4.41495795e-03]\n",
      " [6.14813328e-01]\n",
      " [8.35024472e-03]\n",
      " [2.10903492e-02]\n",
      " [9.92902696e-01]\n",
      " [3.95407706e-01]\n",
      " [4.68243333e-03]\n",
      " [9.91874218e-01]\n",
      " [4.57600594e-01]\n",
      " [4.41495795e-03]\n",
      " [2.00237632e-01]\n",
      " [8.89608502e-01]\n",
      " [6.93517745e-01]\n",
      " [5.16679227e-01]\n",
      " [3.01441848e-02]\n",
      " [7.60227203e-01]\n",
      " [4.89579260e-01]\n",
      " [8.26951861e-01]\n",
      " [1.29543677e-01]\n",
      " [4.44680117e-02]\n",
      " [1.16467634e-02]\n",
      " [1.19187953e-02]\n",
      " [9.13047075e-01]\n",
      " [3.09185917e-03]\n",
      " [9.46052253e-01]\n",
      " [1.52702957e-01]\n",
      " [1.29543677e-01]\n",
      " [7.82239795e-01]\n",
      " [5.71389258e-01]\n",
      " [1.51409218e-02]\n",
      " [9.95221794e-01]\n",
      " [8.97061884e-01]\n",
      " [8.41089129e-01]\n",
      " [6.77990913e-01]\n",
      " [3.95407706e-01]\n",
      " [2.43335199e-02]\n",
      " [9.06831818e-04]\n",
      " [1.17071241e-01]\n",
      " [9.97420132e-01]\n",
      " [6.37296066e-02]\n",
      " [6.48029268e-01]\n",
      " [6.87209666e-01]\n",
      " [3.75295430e-02]\n",
      " [9.11156118e-01]\n",
      " [8.84340052e-03]\n",
      " [8.59137833e-01]\n",
      " [2.13834658e-01]\n",
      " [9.37083244e-01]\n",
      " [8.19110334e-01]\n",
      " [9.37083244e-01]\n",
      " [9.91021335e-01]\n",
      " [6.93973154e-02]\n",
      " [8.53487909e-01]\n",
      " [9.60116386e-01]\n",
      " [6.27004623e-01]\n",
      " [8.40592265e-01]\n",
      " [8.49038541e-01]\n",
      " [4.92816139e-03]\n",
      " [7.49372661e-01]\n",
      " [6.07271910e-01]\n",
      " [2.83174729e-03]\n",
      " [1.73623964e-01]\n",
      " [9.58330482e-02]\n",
      " [1.09112402e-03]\n",
      " [7.90136576e-01]\n",
      " [7.22409427e-01]\n",
      " [4.57600594e-01]\n",
      " [8.00068676e-01]\n",
      " [3.22074085e-01]\n",
      " [9.06831818e-04]\n",
      " [9.89409983e-01]\n",
      " [9.97420132e-01]\n",
      " [1.02219377e-02]\n",
      " [9.99118745e-01]\n",
      " [1.66930370e-02]\n",
      " [6.07271910e-01]\n",
      " [9.99118745e-01]\n",
      " [6.27004623e-01]\n",
      " [4.08056885e-01]\n",
      " [8.74659836e-01]\n",
      " [9.09784436e-01]\n",
      " [8.23836029e-02]\n",
      " [5.19889176e-01]\n",
      " [8.38355422e-01]\n",
      " [1.97078779e-01]\n",
      " [9.08482254e-01]\n",
      " [5.71817935e-01]\n",
      " [2.42272317e-02]\n",
      " [4.98967677e-01]\n",
      " [4.68243333e-03]\n",
      " [5.86803138e-01]\n",
      " [4.08056885e-01]\n",
      " [1.63443014e-01]\n",
      " [7.86853582e-02]\n",
      " [8.42317402e-01]\n",
      " [8.00068676e-01]\n",
      " [1.88319042e-01]\n",
      " [4.05547358e-02]\n",
      " [6.28522158e-01]\n",
      " [9.79446471e-01]\n",
      " [6.37296066e-02]\n",
      " [6.37296066e-02]\n",
      " [9.06150937e-02]\n",
      " [1.65783450e-01]\n",
      " [1.06577106e-01]\n",
      " [2.57495698e-02]\n",
      " [2.70376205e-01]\n",
      " [9.08482254e-01]\n",
      " [2.00237632e-01]\n",
      " [5.39093494e-01]\n",
      " [9.85618830e-01]\n",
      " [5.92164579e-04]\n",
      " [8.63253593e-01]\n",
      " [9.86343682e-01]\n",
      " [9.99466479e-01]\n",
      " [2.95394449e-04]\n",
      " [6.48029268e-01]\n",
      " [9.50044751e-01]\n",
      " [9.79363203e-01]\n",
      " [4.53316979e-03]\n",
      " [6.56471848e-01]\n",
      " [6.76504970e-01]\n",
      " [6.21440053e-01]\n",
      " [8.49038541e-01]\n",
      " [8.42703402e-01]\n",
      " [8.19110334e-01]\n",
      " [6.89396799e-01]\n",
      " [9.49761152e-01]\n",
      " [9.68271792e-01]\n",
      " [4.89579260e-01]\n",
      " [6.17216170e-01]\n",
      " [6.76504970e-01]\n",
      " [8.84340052e-03]\n",
      " [1.52954683e-01]\n",
      " [8.83413494e-01]\n",
      " [7.05563230e-03]\n",
      " [9.58680987e-01]\n",
      " [9.71187472e-01]\n",
      " [4.51059312e-01]\n",
      " [8.63127649e-01]\n",
      " [9.71187472e-01]\n",
      " [3.29196118e-02]\n",
      " [2.52119213e-01]\n",
      " [9.01061445e-02]\n",
      " [5.93140721e-01]\n",
      " [9.61080611e-01]\n",
      " [5.49354672e-01]\n",
      " [6.07271910e-01]\n",
      " [8.63127649e-01]\n",
      " [1.18004389e-01]\n",
      " [9.99601364e-01]\n",
      " [5.71389258e-01]\n",
      " [7.86853582e-02]\n",
      " [1.51676536e-01]\n",
      " [6.81748331e-01]\n",
      " [1.06577106e-01]\n",
      " [5.21896482e-01]\n",
      " [1.02219377e-02]\n",
      " [5.32460928e-01]\n",
      " [1.16467634e-02]\n",
      " [1.17071241e-01]\n",
      " [9.63539422e-01]\n",
      " [6.94236159e-01]\n",
      " [7.63282537e-01]\n",
      " [8.40592265e-01]\n",
      " [5.46478212e-01]\n",
      " [5.38614346e-03]\n",
      " [7.49372661e-01]\n",
      " [6.17216170e-01]\n",
      " [4.16353017e-01]\n",
      " [7.67966449e-01]\n",
      " [8.42317402e-01]\n",
      " [2.42272317e-02]\n",
      " [3.01441848e-02]\n",
      " [2.44258717e-01]\n",
      " [1.05717771e-01]\n",
      " [9.45106089e-01]\n",
      " [2.54326344e-01]\n",
      " [4.13772196e-01]\n",
      " [3.29111159e-01]\n",
      " [9.99465406e-01]\n",
      " [1.23408616e-01]\n",
      " [6.85829343e-03]\n",
      " [8.59137833e-01]\n",
      " [8.05266201e-02]\n",
      " [9.97420132e-01]\n",
      " [9.13117170e-01]\n",
      " [9.02436227e-02]\n",
      " [8.89608502e-01]\n",
      " [1.33457836e-02]\n",
      " [4.79717880e-01]\n",
      " [2.95394449e-04]\n",
      " [1.73623964e-01]\n",
      " [9.85766351e-01]\n",
      " [1.47270430e-02]]\n"
     ]
    }
   ],
   "source": [
    "model.compile(optimizer='adam', \n",
    "              loss='binary_crossentropy', \n",
    "              metrics=['accuracy'])\n",
    "model.fit(x_train,y_train, epochs=100)\n",
    "print(model.predict(x_test))"
   ]
  },
  {
   "cell_type": "code",
   "execution_count": 31,
   "metadata": {},
   "outputs": [
    {
     "name": "stdout",
     "output_type": "stream",
     "text": [
      "9/9 [==============================] - 0s 601us/step - loss: 0.3735 - accuracy: 0.8288\n",
      "Loss : 37.35%\n",
      "Accuracy : 82.88%\n"
     ]
    }
   ],
   "source": [
    "loss, accuracy = model.evaluate(x_test, y_test)\n",
    "print(f\"Loss : {loss * 100:.2f}%\")\n",
    "print(f\"Accuracy : {accuracy * 100:.2f}%\")"
   ]
  }
 ],
 "metadata": {
  "kernelspec": {
   "display_name": "base",
   "language": "python",
   "name": "python3"
  },
  "language_info": {
   "codemirror_mode": {
    "name": "ipython",
    "version": 3
   },
   "file_extension": ".py",
   "mimetype": "text/x-python",
   "name": "python",
   "nbconvert_exporter": "python",
   "pygments_lexer": "ipython3",
   "version": "3.11.3"
  },
  "orig_nbformat": 4
 },
 "nbformat": 4,
 "nbformat_minor": 2
}
