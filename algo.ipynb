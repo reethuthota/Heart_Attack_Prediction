{
 "cells": [
  {
   "cell_type": "markdown",
   "metadata": {},
   "source": [
    "# Prediction of Heart Attack Using Machine Learning Algorithms and Deep Learning\n",
    "\n",
    "### By Reethu RG Thota"
   ]
  },
  {
   "cell_type": "code",
   "execution_count": 1,
   "metadata": {},
   "outputs": [],
   "source": [
    "import pandas as pd\n",
    "import numpy as np\n",
    "from sklearn.model_selection import train_test_split\n",
    "from sklearn.metrics import accuracy_score"
   ]
  },
  {
   "cell_type": "code",
   "execution_count": 2,
   "metadata": {},
   "outputs": [],
   "source": [
    "data = pd.read_csv(\"/Users/reethu/coding/Projects/Heart_Attack_Prediction/heart.csv\")"
   ]
  },
  {
   "cell_type": "markdown",
   "metadata": {},
   "source": [
    "### Decision Tree Classifier"
   ]
  },
  {
   "cell_type": "code",
   "execution_count": 3,
   "metadata": {},
   "outputs": [],
   "source": [
    "from sklearn.tree import DecisionTreeClassifier"
   ]
  },
  {
   "cell_type": "code",
   "execution_count": 4,
   "metadata": {},
   "outputs": [],
   "source": [
    "X = data.drop(\"target\", axis=1) # Features are all columns except target\n",
    "y = data[\"target\"] # Target is the column named target\n",
    "\n",
    "X_train, X_test, y_train, y_test = train_test_split(X, y, test_size=0.2, random_state=7)"
   ]
  },
  {
   "cell_type": "code",
   "execution_count": 5,
   "metadata": {},
   "outputs": [],
   "source": [
    "reg = DecisionTreeClassifier(criterion = 'entropy', random_state = 0)\n",
    "reg.fit(X_train,y_train)\n",
    "\n",
    "Y_pred = reg.predict(X_test)"
   ]
  },
  {
   "cell_type": "code",
   "execution_count": 6,
   "metadata": {},
   "outputs": [
    {
     "name": "stdout",
     "output_type": "stream",
     "text": [
      "Accuracy - test set: 100.00%\n"
     ]
    }
   ],
   "source": [
    "#accuracy on test set\n",
    "accuracy = reg.score(X_test, y_test)\n",
    "print(\"Accuracy - test set: %.2f%%\" % (accuracy*100.0))"
   ]
  },
  {
   "cell_type": "markdown",
   "metadata": {},
   "source": [
    "### Random Forest Classifier"
   ]
  },
  {
   "cell_type": "code",
   "execution_count": 7,
   "metadata": {},
   "outputs": [],
   "source": [
    "from sklearn.ensemble import RandomForestClassifier"
   ]
  },
  {
   "cell_type": "code",
   "execution_count": 8,
   "metadata": {},
   "outputs": [],
   "source": [
    "X = data.drop(\"target\", axis=1) # Features are all columns except target\n",
    "y = data[\"target\"] # Target is the column named target\n",
    "\n",
    "X_train, X_test, y_train, y_test = train_test_split(X, y, test_size=0.3, random_state=5)"
   ]
  },
  {
   "cell_type": "code",
   "execution_count": 9,
   "metadata": {},
   "outputs": [],
   "source": [
    "reg = RandomForestClassifier(criterion = 'entropy', random_state = 0)\n",
    "reg.fit(X_train,y_train)\n",
    "Y_pred = reg.predict(X_test)"
   ]
  },
  {
   "cell_type": "code",
   "execution_count": 10,
   "metadata": {},
   "outputs": [
    {
     "name": "stdout",
     "output_type": "stream",
     "text": [
      "Accuracy - test set: 100.00%\n"
     ]
    }
   ],
   "source": [
    "#accuracy on test set\n",
    "accuracy = reg.score(X_test, y_test)\n",
    "print(\"Accuracy - test set: %.2f%%\" % (accuracy*100.0))"
   ]
  },
  {
   "cell_type": "markdown",
   "metadata": {},
   "source": [
    "### Support vector machine (SVM)"
   ]
  },
  {
   "cell_type": "code",
   "execution_count": 11,
   "metadata": {},
   "outputs": [],
   "source": [
    "from sklearn.svm import SVC"
   ]
  },
  {
   "cell_type": "code",
   "execution_count": 12,
   "metadata": {},
   "outputs": [],
   "source": [
    "X = data.drop(\"target\", axis=1) # Features are all columns except target\n",
    "y = data[\"target\"] # Target is the column named target\n",
    "\n",
    "X_train, X_test, y_train, y_test = train_test_split(X, y, test_size=0.3, random_state=5)"
   ]
  },
  {
   "cell_type": "code",
   "execution_count": 13,
   "metadata": {},
   "outputs": [],
   "source": [
    "reg = SVC()\n",
    "reg.fit(X_train,y_train)\n",
    "Y_pred = reg.predict(X_test)"
   ]
  },
  {
   "cell_type": "code",
   "execution_count": 14,
   "metadata": {},
   "outputs": [
    {
     "name": "stdout",
     "output_type": "stream",
     "text": [
      "Accuracy - test set: 70.78%\n"
     ]
    }
   ],
   "source": [
    "#accuracy on test set\n",
    "accuracy = reg.score(X_test, y_test)\n",
    "print(\"Accuracy - test set: %.2f%%\" % (accuracy*100.0))"
   ]
  },
  {
   "cell_type": "markdown",
   "metadata": {},
   "source": [
    "### Logistic Regression"
   ]
  },
  {
   "cell_type": "code",
   "execution_count": 15,
   "metadata": {},
   "outputs": [],
   "source": [
    "from sklearn.linear_model import LogisticRegression"
   ]
  },
  {
   "cell_type": "code",
   "execution_count": 16,
   "metadata": {},
   "outputs": [],
   "source": [
    "X = data.drop(\"target\", axis=1) # Features are all columns except target\n",
    "y = data[\"target\"] # Target is the column named target\n",
    "\n",
    "X_train, X_test, y_train, y_test = train_test_split(X, y, test_size=0.2, random_state=7)"
   ]
  },
  {
   "cell_type": "code",
   "execution_count": 17,
   "metadata": {},
   "outputs": [],
   "source": [
    "reg = LogisticRegression(max_iter=1000, random_state=0)\n",
    "reg.fit(X_train,y_train)\n",
    "Y_pred = reg.predict(X_test)"
   ]
  },
  {
   "cell_type": "code",
   "execution_count": 18,
   "metadata": {},
   "outputs": [
    {
     "name": "stdout",
     "output_type": "stream",
     "text": [
      "Accuracy - test set: 87.80%\n"
     ]
    }
   ],
   "source": [
    "#accuracy on test set\n",
    "accuracy = reg.score(X_test, y_test)\n",
    "print(\"Accuracy - test set: %.2f%%\" % (accuracy*100.0))"
   ]
  },
  {
   "cell_type": "markdown",
   "metadata": {},
   "source": [
    "### K-Nearest Neighbour (KNN)"
   ]
  },
  {
   "cell_type": "code",
   "execution_count": 19,
   "metadata": {},
   "outputs": [],
   "source": [
    "from sklearn.neighbors import KNeighborsClassifier"
   ]
  },
  {
   "cell_type": "code",
   "execution_count": 20,
   "metadata": {},
   "outputs": [],
   "source": [
    "X = data.drop(\"target\", axis=1) # Features are all columns except target\n",
    "y = data[\"target\"] # Target is the column named target\n",
    "\n",
    "X_train, X_test, y_train, y_test = train_test_split(X, y, test_size=0.2, random_state=7)"
   ]
  },
  {
   "cell_type": "code",
   "execution_count": 21,
   "metadata": {},
   "outputs": [],
   "source": [
    "reg = KNeighborsClassifier()\n",
    "reg.fit(X_train,y_train)\n",
    "Y_pred = reg.predict(X_test)"
   ]
  },
  {
   "cell_type": "code",
   "execution_count": 22,
   "metadata": {},
   "outputs": [
    {
     "name": "stdout",
     "output_type": "stream",
     "text": [
      "Accuracy - test set: 74.63%\n"
     ]
    }
   ],
   "source": [
    "#accuracy on test set\n",
    "accuracy = reg.score(X_test, y_test)\n",
    "print(\"Accuracy - test set: %.2f%%\" % (accuracy*100.0))"
   ]
  },
  {
   "cell_type": "markdown",
   "metadata": {},
   "source": [
    "### Naive Byes"
   ]
  },
  {
   "cell_type": "code",
   "execution_count": 23,
   "metadata": {},
   "outputs": [],
   "source": [
    "from sklearn.naive_bayes import GaussianNB"
   ]
  },
  {
   "cell_type": "code",
   "execution_count": 24,
   "metadata": {},
   "outputs": [],
   "source": [
    "X = data.drop(\"target\", axis=1) # Features are all columns except target\n",
    "y = data[\"target\"] # Target is the column named target\n",
    "\n",
    "X_train, X_test, y_train, y_test = train_test_split(X, y, test_size=0.2, random_state=7)"
   ]
  },
  {
   "cell_type": "code",
   "execution_count": 25,
   "metadata": {},
   "outputs": [],
   "source": [
    "reg = GaussianNB()\n",
    "reg.fit(X_train,y_train)\n",
    "Y_pred = reg.predict(X_test)"
   ]
  },
  {
   "cell_type": "code",
   "execution_count": 26,
   "metadata": {},
   "outputs": [
    {
     "name": "stdout",
     "output_type": "stream",
     "text": [
      "Accuracy - test set: 84.88%\n"
     ]
    }
   ],
   "source": [
    "#accuracy on test set\n",
    "accuracy = reg.score(X_test, y_test)\n",
    "print(\"Accuracy - test set: %.2f%%\" % (accuracy*100.0))"
   ]
  },
  {
   "cell_type": "markdown",
   "metadata": {},
   "source": [
    "### Deep Neural Networks (DNN)"
   ]
  },
  {
   "cell_type": "code",
   "execution_count": 27,
   "metadata": {},
   "outputs": [],
   "source": [
    "import matplotlib.pyplot as plt\n",
    "from sklearn.metrics import mean_squared_error\n",
    "from math import sqrt\n",
    "from keras.models import Sequential\n",
    "from keras.layers import Dense\n",
    "from keras.utils import to_categorical "
   ]
  },
  {
   "cell_type": "code",
   "execution_count": 28,
   "metadata": {},
   "outputs": [],
   "source": [
    "df = pd.read_csv(\"heart.csv\")\n",
    "x=df.drop('target',axis=1)\n",
    "y=df['target']\n",
    "x_train,x_test,y_train,y_test = train_test_split(x,y,test_size=0.25,random_state=42)"
   ]
  },
  {
   "cell_type": "code",
   "execution_count": 29,
   "metadata": {},
   "outputs": [],
   "source": [
    "model = Sequential()\n",
    "model.add(Dense(500, activation='relu', input_dim=13))\n",
    "model.add(Dense(100, activation='relu'))\n",
    "model.add(Dense(50, activation='relu'))\n",
    "model.add(Dense(1, activation='sigmoid'))\n"
   ]
  },
  {
   "cell_type": "code",
   "execution_count": 30,
   "metadata": {},
   "outputs": [
    {
     "name": "stdout",
     "output_type": "stream",
     "text": [
      "Epoch 1/100\n",
      " 1/24 [>.............................] - ETA: 3s - loss: 1.4141 - accuracy: 0.5625"
     ]
    },
    {
     "name": "stderr",
     "output_type": "stream",
     "text": [
      "2023-10-07 15:40:54.106196: W tensorflow/tsl/platform/profile_utils/cpu_utils.cc:128] Failed to get CPU frequency: 0 Hz\n"
     ]
    },
    {
     "name": "stdout",
     "output_type": "stream",
     "text": [
      "24/24 [==============================] - 0s 1ms/step - loss: 2.3621 - accuracy: 0.5690\n",
      "Epoch 2/100\n",
      "24/24 [==============================] - 0s 817us/step - loss: 0.7329 - accuracy: 0.6341\n",
      "Epoch 3/100\n",
      "24/24 [==============================] - 0s 763us/step - loss: 0.6424 - accuracy: 0.6510\n",
      "Epoch 4/100\n",
      "24/24 [==============================] - 0s 780us/step - loss: 0.5683 - accuracy: 0.7096\n",
      "Epoch 5/100\n",
      "24/24 [==============================] - 0s 892us/step - loss: 0.6405 - accuracy: 0.6784\n",
      "Epoch 6/100\n",
      "24/24 [==============================] - 0s 886us/step - loss: 0.5458 - accuracy: 0.7240\n",
      "Epoch 7/100\n",
      "24/24 [==============================] - 0s 888us/step - loss: 0.6110 - accuracy: 0.7005\n",
      "Epoch 8/100\n",
      "24/24 [==============================] - 0s 885us/step - loss: 0.6064 - accuracy: 0.7174\n",
      "Epoch 9/100\n",
      "24/24 [==============================] - 0s 905us/step - loss: 0.5045 - accuracy: 0.7552\n",
      "Epoch 10/100\n",
      "24/24 [==============================] - 0s 910us/step - loss: 0.4199 - accuracy: 0.8216\n",
      "Epoch 11/100\n",
      "24/24 [==============================] - 0s 889us/step - loss: 0.4140 - accuracy: 0.8138\n",
      "Epoch 12/100\n",
      "24/24 [==============================] - 0s 892us/step - loss: 0.4874 - accuracy: 0.7604\n",
      "Epoch 13/100\n",
      "24/24 [==============================] - 0s 892us/step - loss: 0.3974 - accuracy: 0.8333\n",
      "Epoch 14/100\n",
      "24/24 [==============================] - 0s 867us/step - loss: 0.4225 - accuracy: 0.8073\n",
      "Epoch 15/100\n",
      "24/24 [==============================] - 0s 863us/step - loss: 0.4225 - accuracy: 0.8073\n",
      "Epoch 16/100\n",
      "24/24 [==============================] - 0s 867us/step - loss: 0.4179 - accuracy: 0.7995\n",
      "Epoch 17/100\n",
      "24/24 [==============================] - 0s 885us/step - loss: 0.5032 - accuracy: 0.7708\n",
      "Epoch 18/100\n",
      "24/24 [==============================] - 0s 890us/step - loss: 0.4906 - accuracy: 0.7969\n",
      "Epoch 19/100\n",
      "24/24 [==============================] - 0s 897us/step - loss: 0.3691 - accuracy: 0.8372\n",
      "Epoch 20/100\n",
      "24/24 [==============================] - 0s 868us/step - loss: 0.3589 - accuracy: 0.8424\n",
      "Epoch 21/100\n",
      "24/24 [==============================] - 0s 872us/step - loss: 0.4608 - accuracy: 0.7930\n",
      "Epoch 22/100\n",
      "24/24 [==============================] - 0s 862us/step - loss: 0.3590 - accuracy: 0.8424\n",
      "Epoch 23/100\n",
      "24/24 [==============================] - 0s 899us/step - loss: 0.3759 - accuracy: 0.8385\n",
      "Epoch 24/100\n",
      "24/24 [==============================] - 0s 882us/step - loss: 0.4012 - accuracy: 0.8164\n",
      "Epoch 25/100\n",
      "24/24 [==============================] - 0s 896us/step - loss: 0.4524 - accuracy: 0.7982\n",
      "Epoch 26/100\n",
      "24/24 [==============================] - 0s 886us/step - loss: 0.3970 - accuracy: 0.8216\n",
      "Epoch 27/100\n",
      "24/24 [==============================] - 0s 2ms/step - loss: 0.4373 - accuracy: 0.8034\n",
      "Epoch 28/100\n",
      "24/24 [==============================] - 0s 910us/step - loss: 0.3369 - accuracy: 0.8594\n",
      "Epoch 29/100\n",
      "24/24 [==============================] - 0s 876us/step - loss: 0.3490 - accuracy: 0.8516\n",
      "Epoch 30/100\n",
      "24/24 [==============================] - 0s 885us/step - loss: 0.4565 - accuracy: 0.7982\n",
      "Epoch 31/100\n",
      "24/24 [==============================] - 0s 888us/step - loss: 0.3448 - accuracy: 0.8516\n",
      "Epoch 32/100\n",
      "24/24 [==============================] - 0s 880us/step - loss: 0.3704 - accuracy: 0.8372\n",
      "Epoch 33/100\n",
      "24/24 [==============================] - 0s 902us/step - loss: 0.3806 - accuracy: 0.8255\n",
      "Epoch 34/100\n",
      "24/24 [==============================] - 0s 879us/step - loss: 0.3626 - accuracy: 0.8555\n",
      "Epoch 35/100\n",
      "24/24 [==============================] - 0s 885us/step - loss: 0.3615 - accuracy: 0.8490\n",
      "Epoch 36/100\n",
      "24/24 [==============================] - 0s 888us/step - loss: 0.3406 - accuracy: 0.8646\n",
      "Epoch 37/100\n",
      "24/24 [==============================] - 0s 869us/step - loss: 0.3548 - accuracy: 0.8424\n",
      "Epoch 38/100\n",
      "24/24 [==============================] - 0s 871us/step - loss: 0.3588 - accuracy: 0.8490\n",
      "Epoch 39/100\n",
      "24/24 [==============================] - 0s 872us/step - loss: 0.3283 - accuracy: 0.8581\n",
      "Epoch 40/100\n",
      "24/24 [==============================] - 0s 867us/step - loss: 0.3817 - accuracy: 0.8281\n",
      "Epoch 41/100\n",
      "24/24 [==============================] - 0s 876us/step - loss: 0.5203 - accuracy: 0.7747\n",
      "Epoch 42/100\n",
      "24/24 [==============================] - 0s 895us/step - loss: 0.3412 - accuracy: 0.8646\n",
      "Epoch 43/100\n",
      "24/24 [==============================] - 0s 890us/step - loss: 0.3266 - accuracy: 0.8724\n",
      "Epoch 44/100\n",
      "24/24 [==============================] - 0s 861us/step - loss: 0.3492 - accuracy: 0.8529\n",
      "Epoch 45/100\n",
      "24/24 [==============================] - 0s 895us/step - loss: 0.4067 - accuracy: 0.8190\n",
      "Epoch 46/100\n",
      "24/24 [==============================] - 0s 875us/step - loss: 0.4000 - accuracy: 0.8164\n",
      "Epoch 47/100\n",
      "24/24 [==============================] - 0s 880us/step - loss: 0.3506 - accuracy: 0.8451\n",
      "Epoch 48/100\n",
      "24/24 [==============================] - 0s 923us/step - loss: 0.3584 - accuracy: 0.8385\n",
      "Epoch 49/100\n",
      "24/24 [==============================] - 0s 891us/step - loss: 0.4173 - accuracy: 0.8216\n",
      "Epoch 50/100\n",
      "24/24 [==============================] - 0s 872us/step - loss: 0.3762 - accuracy: 0.8346\n",
      "Epoch 51/100\n",
      "24/24 [==============================] - 0s 906us/step - loss: 0.3664 - accuracy: 0.8320\n",
      "Epoch 52/100\n",
      "24/24 [==============================] - 0s 887us/step - loss: 0.3604 - accuracy: 0.8424\n",
      "Epoch 53/100\n",
      "24/24 [==============================] - 0s 895us/step - loss: 0.3610 - accuracy: 0.8424\n",
      "Epoch 54/100\n",
      "24/24 [==============================] - 0s 857us/step - loss: 0.3323 - accuracy: 0.8568\n",
      "Epoch 55/100\n",
      "24/24 [==============================] - 0s 881us/step - loss: 0.3521 - accuracy: 0.8529\n",
      "Epoch 56/100\n",
      "24/24 [==============================] - 0s 2ms/step - loss: 0.3604 - accuracy: 0.8424\n",
      "Epoch 57/100\n",
      "24/24 [==============================] - 0s 886us/step - loss: 0.3628 - accuracy: 0.8359\n",
      "Epoch 58/100\n",
      "24/24 [==============================] - 0s 887us/step - loss: 0.3615 - accuracy: 0.8268\n",
      "Epoch 59/100\n",
      "24/24 [==============================] - 0s 876us/step - loss: 0.4364 - accuracy: 0.8099\n",
      "Epoch 60/100\n",
      "24/24 [==============================] - 0s 870us/step - loss: 0.3544 - accuracy: 0.8385\n",
      "Epoch 61/100\n",
      "24/24 [==============================] - 0s 869us/step - loss: 0.3290 - accuracy: 0.8555\n",
      "Epoch 62/100\n",
      "24/24 [==============================] - 0s 894us/step - loss: 0.3557 - accuracy: 0.8359\n",
      "Epoch 63/100\n",
      "24/24 [==============================] - 0s 904us/step - loss: 0.3538 - accuracy: 0.8411\n",
      "Epoch 64/100\n",
      "24/24 [==============================] - 0s 888us/step - loss: 0.3703 - accuracy: 0.8307\n",
      "Epoch 65/100\n",
      "24/24 [==============================] - 0s 884us/step - loss: 0.3423 - accuracy: 0.8581\n",
      "Epoch 66/100\n",
      "24/24 [==============================] - 0s 881us/step - loss: 0.3274 - accuracy: 0.8633\n",
      "Epoch 67/100\n",
      "24/24 [==============================] - 0s 883us/step - loss: 0.3439 - accuracy: 0.8568\n",
      "Epoch 68/100\n",
      "24/24 [==============================] - 0s 896us/step - loss: 0.3549 - accuracy: 0.8516\n",
      "Epoch 69/100\n",
      "24/24 [==============================] - 0s 884us/step - loss: 0.3074 - accuracy: 0.8750\n",
      "Epoch 70/100\n",
      "24/24 [==============================] - 0s 884us/step - loss: 0.3259 - accuracy: 0.8568\n",
      "Epoch 71/100\n",
      "24/24 [==============================] - 0s 883us/step - loss: 0.3256 - accuracy: 0.8568\n",
      "Epoch 72/100\n",
      "24/24 [==============================] - 0s 884us/step - loss: 0.3185 - accuracy: 0.8737\n",
      "Epoch 73/100\n",
      "24/24 [==============================] - 0s 891us/step - loss: 0.3218 - accuracy: 0.8620\n",
      "Epoch 74/100\n",
      "24/24 [==============================] - 0s 895us/step - loss: 0.3149 - accuracy: 0.8659\n",
      "Epoch 75/100\n",
      "24/24 [==============================] - 0s 896us/step - loss: 0.3276 - accuracy: 0.8646\n",
      "Epoch 76/100\n",
      "24/24 [==============================] - 0s 875us/step - loss: 0.3229 - accuracy: 0.8568\n",
      "Epoch 77/100\n",
      "24/24 [==============================] - 0s 877us/step - loss: 0.3141 - accuracy: 0.8776\n",
      "Epoch 78/100\n",
      "24/24 [==============================] - 0s 868us/step - loss: 0.3149 - accuracy: 0.8672\n",
      "Epoch 79/100\n",
      "24/24 [==============================] - 0s 880us/step - loss: 0.3408 - accuracy: 0.8438\n",
      "Epoch 80/100\n",
      "24/24 [==============================] - 0s 887us/step - loss: 0.3211 - accuracy: 0.8685\n",
      "Epoch 81/100\n",
      "24/24 [==============================] - 0s 878us/step - loss: 0.3070 - accuracy: 0.8776\n",
      "Epoch 82/100\n",
      "24/24 [==============================] - 0s 876us/step - loss: 0.3057 - accuracy: 0.8724\n",
      "Epoch 83/100\n",
      "24/24 [==============================] - 0s 871us/step - loss: 0.3258 - accuracy: 0.8594\n",
      "Epoch 84/100\n",
      "24/24 [==============================] - 0s 2ms/step - loss: 0.3693 - accuracy: 0.8216\n",
      "Epoch 85/100\n",
      "24/24 [==============================] - 0s 893us/step - loss: 0.3076 - accuracy: 0.8750\n",
      "Epoch 86/100\n",
      "24/24 [==============================] - 0s 887us/step - loss: 0.3333 - accuracy: 0.8581\n",
      "Epoch 87/100\n",
      "24/24 [==============================] - 0s 869us/step - loss: 0.3001 - accuracy: 0.8841\n",
      "Epoch 88/100\n",
      "24/24 [==============================] - 0s 905us/step - loss: 0.3307 - accuracy: 0.8568\n",
      "Epoch 89/100\n",
      "24/24 [==============================] - 0s 883us/step - loss: 0.3800 - accuracy: 0.8398\n",
      "Epoch 90/100\n",
      "24/24 [==============================] - 0s 907us/step - loss: 0.3149 - accuracy: 0.8737\n",
      "Epoch 91/100\n",
      "24/24 [==============================] - 0s 889us/step - loss: 0.3565 - accuracy: 0.8438\n",
      "Epoch 92/100\n",
      "24/24 [==============================] - 0s 865us/step - loss: 0.3581 - accuracy: 0.8451\n",
      "Epoch 93/100\n",
      "24/24 [==============================] - 0s 857us/step - loss: 0.3023 - accuracy: 0.8854\n",
      "Epoch 94/100\n",
      "24/24 [==============================] - 0s 899us/step - loss: 0.3194 - accuracy: 0.8581\n",
      "Epoch 95/100\n",
      "24/24 [==============================] - 0s 875us/step - loss: 0.3008 - accuracy: 0.8854\n",
      "Epoch 96/100\n",
      "24/24 [==============================] - 0s 871us/step - loss: 0.3057 - accuracy: 0.8802\n",
      "Epoch 97/100\n",
      "24/24 [==============================] - 0s 865us/step - loss: 0.3426 - accuracy: 0.8477\n",
      "Epoch 98/100\n",
      "24/24 [==============================] - 0s 886us/step - loss: 0.3119 - accuracy: 0.8698\n",
      "Epoch 99/100\n",
      "24/24 [==============================] - 0s 874us/step - loss: 0.2946 - accuracy: 0.8828\n",
      "Epoch 100/100\n",
      "24/24 [==============================] - 0s 874us/step - loss: 0.3054 - accuracy: 0.8776\n",
      "9/9 [==============================] - 0s 450us/step\n",
      "[[9.87891316e-01]\n",
      " [9.87381577e-01]\n",
      " [3.91388871e-02]\n",
      " [9.81822670e-01]\n",
      " [7.77339563e-02]\n",
      " [9.06808197e-01]\n",
      " [7.46916234e-03]\n",
      " [2.23646946e-02]\n",
      " [9.42927957e-01]\n",
      " [4.67311591e-03]\n",
      " [9.90445971e-01]\n",
      " [1.08094071e-03]\n",
      " [9.31015372e-01]\n",
      " [9.99772251e-01]\n",
      " [5.79771996e-02]\n",
      " [9.79421377e-01]\n",
      " [1.28848003e-02]\n",
      " [9.99488950e-01]\n",
      " [9.59140778e-01]\n",
      " [1.46281533e-02]\n",
      " [8.46808076e-01]\n",
      " [1.12359621e-01]\n",
      " [5.42060018e-01]\n",
      " [4.84817429e-04]\n",
      " [8.46808076e-01]\n",
      " [9.93873417e-01]\n",
      " [9.61489201e-01]\n",
      " [5.05181551e-01]\n",
      " [9.65871103e-03]\n",
      " [9.68119800e-01]\n",
      " [6.90129340e-01]\n",
      " [6.59392655e-01]\n",
      " [7.81506777e-01]\n",
      " [9.87381577e-01]\n",
      " [9.11454320e-01]\n",
      " [9.39790845e-01]\n",
      " [8.46808076e-01]\n",
      " [6.84186876e-01]\n",
      " [8.83046329e-01]\n",
      " [9.82288361e-01]\n",
      " [2.23646946e-02]\n",
      " [3.59737687e-02]\n",
      " [7.36883461e-01]\n",
      " [5.42060018e-01]\n",
      " [1.46941934e-02]\n",
      " [7.47074431e-04]\n",
      " [4.49265614e-02]\n",
      " [4.96402800e-01]\n",
      " [6.61489069e-01]\n",
      " [6.51392579e-01]\n",
      " [5.44793963e-01]\n",
      " [4.05231491e-03]\n",
      " [8.00716937e-01]\n",
      " [2.56818556e-03]\n",
      " [9.61489201e-01]\n",
      " [8.83046329e-01]\n",
      " [2.34597430e-01]\n",
      " [6.30736165e-03]\n",
      " [9.17137384e-01]\n",
      " [9.82120514e-01]\n",
      " [7.54077196e-01]\n",
      " [1.03652559e-01]\n",
      " [9.65871103e-03]\n",
      " [6.51392579e-01]\n",
      " [1.72766508e-03]\n",
      " [3.73701751e-02]\n",
      " [9.97063160e-01]\n",
      " [5.88236511e-01]\n",
      " [7.47074431e-04]\n",
      " [9.96975124e-01]\n",
      " [6.53682113e-01]\n",
      " [9.65871103e-03]\n",
      " [3.10501844e-01]\n",
      " [9.70371664e-01]\n",
      " [8.75290155e-01]\n",
      " [7.59254456e-01]\n",
      " [7.46916234e-03]\n",
      " [7.09160864e-01]\n",
      " [6.51716411e-01]\n",
      " [9.54758286e-01]\n",
      " [1.74832150e-01]\n",
      " [9.79418606e-02]\n",
      " [3.35796591e-04]\n",
      " [3.63157652e-02]\n",
      " [9.49712276e-01]\n",
      " [4.22369828e-03]\n",
      " [9.90445971e-01]\n",
      " [1.96099266e-01]\n",
      " [1.74832150e-01]\n",
      " [9.68119800e-01]\n",
      " [7.57214010e-01]\n",
      " [1.46281533e-02]\n",
      " [9.89776194e-01]\n",
      " [9.76311326e-01]\n",
      " [9.49553549e-01]\n",
      " [8.08988571e-01]\n",
      " [5.88236511e-01]\n",
      " [3.52831930e-02]\n",
      " [8.97914560e-06]\n",
      " [1.39023531e-02]\n",
      " [9.59907055e-01]\n",
      " [3.47762145e-02]\n",
      " [8.89972091e-01]\n",
      " [9.24393535e-01]\n",
      " [4.17291410e-02]\n",
      " [9.69384432e-01]\n",
      " [6.30736165e-03]\n",
      " [8.13353956e-01]\n",
      " [3.61597806e-01]\n",
      " [9.84048367e-01]\n",
      " [9.17137384e-01]\n",
      " [9.84048367e-01]\n",
      " [9.95558798e-01]\n",
      " [8.81547630e-02]\n",
      " [8.77416253e-01]\n",
      " [9.88768160e-01]\n",
      " [8.11883390e-01]\n",
      " [9.59960699e-01]\n",
      " [9.63456810e-01]\n",
      " [3.00189859e-05]\n",
      " [9.15127277e-01]\n",
      " [8.61554921e-01]\n",
      " [2.18349556e-03]\n",
      " [2.10023642e-01]\n",
      " [1.05048798e-01]\n",
      " [4.84817429e-04]\n",
      " [9.53115046e-01]\n",
      " [7.76591778e-01]\n",
      " [6.53682113e-01]\n",
      " [9.63351071e-01]\n",
      " [6.59392655e-01]\n",
      " [8.97914560e-06]\n",
      " [9.94456172e-01]\n",
      " [9.59907055e-01]\n",
      " [2.17387490e-02]\n",
      " [9.97218251e-01]\n",
      " [2.95367208e-05]\n",
      " [8.61554921e-01]\n",
      " [9.97218251e-01]\n",
      " [8.11883390e-01]\n",
      " [7.85415232e-01]\n",
      " [9.62084949e-01]\n",
      " [9.84909356e-01]\n",
      " [3.09161283e-02]\n",
      " [7.89904952e-01]\n",
      " [9.68003333e-01]\n",
      " [5.44793963e-01]\n",
      " [9.82604027e-01]\n",
      " [7.13913858e-01]\n",
      " [5.86180054e-02]\n",
      " [7.81506777e-01]\n",
      " [7.47074431e-04]\n",
      " [8.98963690e-01]\n",
      " [7.85415232e-01]\n",
      " [3.25789601e-01]\n",
      " [9.33412760e-02]\n",
      " [9.05241489e-01]\n",
      " [9.63351071e-01]\n",
      " [1.66326966e-02]\n",
      " [3.59737687e-02]\n",
      " [7.36883461e-01]\n",
      " [9.73753095e-01]\n",
      " [3.47762145e-02]\n",
      " [3.47762145e-02]\n",
      " [1.36314541e-01]\n",
      " [1.68722570e-01]\n",
      " [2.49486879e-01]\n",
      " [2.94901035e-03]\n",
      " [1.28132597e-01]\n",
      " [9.82604027e-01]\n",
      " [3.10501844e-01]\n",
      " [7.84310102e-01]\n",
      " [9.84711468e-01]\n",
      " [9.36455399e-06]\n",
      " [9.70571637e-01]\n",
      " [9.87381577e-01]\n",
      " [9.99141991e-01]\n",
      " [6.88236250e-05]\n",
      " [8.89972091e-01]\n",
      " [9.84487832e-01]\n",
      " [9.91552711e-01]\n",
      " [2.68795481e-03]\n",
      " [9.26142395e-01]\n",
      " [8.00716937e-01]\n",
      " [7.91810274e-01]\n",
      " [9.63456810e-01]\n",
      " [9.11454320e-01]\n",
      " [9.17137384e-01]\n",
      " [7.96684802e-01]\n",
      " [9.77142394e-01]\n",
      " [9.91598725e-01]\n",
      " [6.51716411e-01]\n",
      " [8.03143084e-01]\n",
      " [8.00716937e-01]\n",
      " [6.30736165e-03]\n",
      " [1.92204863e-01]\n",
      " [9.76590395e-01]\n",
      " [1.32229161e-02]\n",
      " [9.80838597e-01]\n",
      " [9.93431985e-01]\n",
      " [6.95189059e-01]\n",
      " [8.61584485e-01]\n",
      " [9.93431985e-01]\n",
      " [4.48520072e-02]\n",
      " [4.26707566e-01]\n",
      " [1.64732382e-01]\n",
      " [6.27187550e-01]\n",
      " [9.94602263e-01]\n",
      " [7.38898337e-01]\n",
      " [8.61554921e-01]\n",
      " [8.61584485e-01]\n",
      " [1.31065309e-01]\n",
      " [9.99091744e-01]\n",
      " [7.57214010e-01]\n",
      " [9.33412760e-02]\n",
      " [1.64094910e-01]\n",
      " [5.51582932e-01]\n",
      " [2.49486879e-01]\n",
      " [7.92243123e-01]\n",
      " [2.17387490e-02]\n",
      " [6.99776173e-01]\n",
      " [3.35796591e-04]\n",
      " [1.39023531e-02]\n",
      " [9.88329828e-01]\n",
      " [9.47858095e-01]\n",
      " [9.01869535e-01]\n",
      " [9.59960699e-01]\n",
      " [8.02390218e-01]\n",
      " [1.08094071e-03]\n",
      " [9.15127277e-01]\n",
      " [8.03143084e-01]\n",
      " [5.37332356e-01]\n",
      " [8.13096762e-01]\n",
      " [9.05241489e-01]\n",
      " [5.86180054e-02]\n",
      " [7.46916234e-03]\n",
      " [3.94240528e-01]\n",
      " [3.16478461e-01]\n",
      " [9.83320713e-01]\n",
      " [4.18385088e-01]\n",
      " [4.97815371e-01]\n",
      " [6.57954216e-01]\n",
      " [9.99461651e-01]\n",
      " [1.59768090e-01]\n",
      " [2.03176821e-03]\n",
      " [8.13353956e-01]\n",
      " [9.94486082e-03]\n",
      " [9.59907055e-01]\n",
      " [9.05079484e-01]\n",
      " [1.04317024e-01]\n",
      " [9.70371664e-01]\n",
      " [4.67311591e-03]\n",
      " [5.15873015e-01]\n",
      " [6.88236250e-05]\n",
      " [2.10023642e-01]\n",
      " [9.82890308e-01]\n",
      " [5.30719571e-02]]\n"
     ]
    }
   ],
   "source": [
    "model.compile(optimizer='adam', \n",
    "              loss='binary_crossentropy', \n",
    "              metrics=['accuracy'])\n",
    "model.fit(x_train,y_train, epochs=100)\n",
    "print(model.predict(x_test))"
   ]
  },
  {
   "cell_type": "code",
   "execution_count": 31,
   "metadata": {},
   "outputs": [
    {
     "name": "stdout",
     "output_type": "stream",
     "text": [
      "9/9 [==============================] - 0s 661us/step - loss: 0.4101 - accuracy: 0.8132\n",
      "Loss : 41.01%\n",
      "Accuracy : 81.32%\n"
     ]
    }
   ],
   "source": [
    "loss, accuracy = model.evaluate(x_test, y_test)\n",
    "print(f\"Loss : {loss * 100:.2f}%\")\n",
    "print(f\"Accuracy : {accuracy * 100:.2f}%\")"
   ]
  }
 ],
 "metadata": {
  "kernelspec": {
   "display_name": "base",
   "language": "python",
   "name": "python3"
  },
  "language_info": {
   "codemirror_mode": {
    "name": "ipython",
    "version": 3
   },
   "file_extension": ".py",
   "mimetype": "text/x-python",
   "name": "python",
   "nbconvert_exporter": "python",
   "pygments_lexer": "ipython3",
   "version": "3.11.3"
  },
  "orig_nbformat": 4
 },
 "nbformat": 4,
 "nbformat_minor": 2
}
